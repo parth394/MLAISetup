{
 "cells": [
  {
   "cell_type": "code",
   "execution_count": 4,
   "metadata": {
    "ExecuteTime": {
     "end_time": "2019-09-08T07:02:57.502654Z",
     "start_time": "2019-09-08T07:02:57.494011Z"
    }
   },
   "outputs": [],
   "source": [
    "import numpy as np\n",
    "import math\n",
    "l = np.random.randint(0,1000,100)"
   ]
  },
  {
   "cell_type": "code",
   "execution_count": 5,
   "metadata": {
    "ExecuteTime": {
     "end_time": "2019-09-08T07:02:59.657619Z",
     "start_time": "2019-09-08T07:02:59.652534Z"
    }
   },
   "outputs": [
    {
     "name": "stdout",
     "output_type": "stream",
     "text": [
      "[  0  19  19  33  34  41  47  77  94 108 129 138 164 173 178 197 238 242\n",
      " 243 245 246 249 257 260 269 277 281 294 300 309 322 332 367 372 390 392\n",
      " 393 402 405 433 437 440 450 471 478 497 512 514 522 530 530 547 548 551\n",
      " 553 558 567 593 594 614 629 631 637 638 678 683 693 695 706 708 709 712\n",
      " 733 734 743 758 770 776 786 788 790 809 822 826 849 852 871 876 881 891\n",
      " 894 898 924 945 954 954 959 981 994 997]\n"
     ]
    }
   ],
   "source": [
    "l.sort()\n",
    "print(l)"
   ]
  },
  {
   "cell_type": "code",
   "execution_count": 23,
   "metadata": {
    "ExecuteTime": {
     "end_time": "2019-09-08T07:12:26.268590Z",
     "start_time": "2019-09-08T07:12:26.259873Z"
    }
   },
   "outputs": [],
   "source": [
    "def binary_search(lis,q):\n",
    "    cont = True\n",
    "    l = 0\n",
    "    r = len(lis)-1\n",
    "    while(cont):\n",
    "        m = math.ceil((l+r)/2)\n",
    "        print('l = {} r = {} m={}'.format(l,r,m))\n",
    "        if lis[m] == q:\n",
    "            print('Number {} is found in the list '.format(q,m))\n",
    "            cont = False\n",
    "        else:\n",
    "            if r == 1 and lis[0] == q:\n",
    "                print('Number {} is found'.format(q))\n",
    "                break\n",
    "            elif r ==1 :\n",
    "                print('Number {} not found in the give list'.format(q))\n",
    "                break\n",
    "        r = m\n",
    "        if q < lis[m]:\n",
    "            lis = lis[:m+1]\n",
    "        else:\n",
    "            lis = lis[m:]\n",
    "    "
   ]
  },
  {
   "cell_type": "code",
   "execution_count": 27,
   "metadata": {
    "ExecuteTime": {
     "end_time": "2019-09-08T08:56:50.037370Z",
     "start_time": "2019-09-08T08:56:50.032798Z"
    },
    "scrolled": false
   },
   "outputs": [
    {
     "name": "stdout",
     "output_type": "stream",
     "text": [
      "l = 0 r = 99 m=50\n",
      "l = 0 r = 50 m=25\n",
      "l = 0 r = 25 m=13\n",
      "l = 0 r = 13 m=7\n",
      "l = 0 r = 7 m=4\n",
      "l = 0 r = 4 m=2\n",
      "l = 0 r = 2 m=1\n",
      "l = 0 r = 1 m=1\n",
      "Number 1 not found in the give list\n"
     ]
    }
   ],
   "source": [
    "binary_search(l,1)"
   ]
  }
 ],
 "metadata": {
  "kernelspec": {
   "display_name": "Python 3",
   "language": "python",
   "name": "python3"
  },
  "language_info": {
   "codemirror_mode": {
    "name": "ipython",
    "version": 3
   },
   "file_extension": ".py",
   "mimetype": "text/x-python",
   "name": "python",
   "nbconvert_exporter": "python",
   "pygments_lexer": "ipython3",
   "version": "3.6.8"
  },
  "latex_envs": {
   "LaTeX_envs_menu_present": true,
   "autoclose": false,
   "autocomplete": true,
   "bibliofile": "biblio.bib",
   "cite_by": "apalike",
   "current_citInitial": 1,
   "eqLabelWithNumbers": true,
   "eqNumInitial": 1,
   "hotkeys": {
    "equation": "Ctrl-E",
    "itemize": "Ctrl-I"
   },
   "labels_anchors": false,
   "latex_user_defs": false,
   "report_style_numbering": false,
   "user_envs_cfg": false
  },
  "toc": {
   "base_numbering": 1,
   "nav_menu": {},
   "number_sections": true,
   "sideBar": true,
   "skip_h1_title": false,
   "title_cell": "Table of Contents",
   "title_sidebar": "Contents",
   "toc_cell": false,
   "toc_position": {},
   "toc_section_display": true,
   "toc_window_display": false
  },
  "varInspector": {
   "cols": {
    "lenName": 16,
    "lenType": 16,
    "lenVar": 40
   },
   "kernels_config": {
    "python": {
     "delete_cmd_postfix": "",
     "delete_cmd_prefix": "del ",
     "library": "var_list.py",
     "varRefreshCmd": "print(var_dic_list())"
    },
    "r": {
     "delete_cmd_postfix": ") ",
     "delete_cmd_prefix": "rm(",
     "library": "var_list.r",
     "varRefreshCmd": "cat(var_dic_list()) "
    }
   },
   "types_to_exclude": [
    "module",
    "function",
    "builtin_function_or_method",
    "instance",
    "_Feature"
   ],
   "window_display": false
  }
 },
 "nbformat": 4,
 "nbformat_minor": 2
}
