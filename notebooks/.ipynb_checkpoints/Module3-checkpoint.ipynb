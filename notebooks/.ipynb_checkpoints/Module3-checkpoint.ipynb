{
 "cells": [
  {
   "cell_type": "markdown",
   "metadata": {
    "colab_type": "text",
    "id": "BfCcX5VXSl3X"
   },
   "source": [
    "# Amazon Fine Food Reviews"
   ]
  },
  {
   "cell_type": "markdown",
   "metadata": {
    "colab_type": "text",
    "id": "rO3WYTQ5Sl3c"
   },
   "source": [
    "## EDA"
   ]
  },
  {
   "cell_type": "markdown",
   "metadata": {
    "colab_type": "text",
    "id": "xMdZsEiuSl3g"
   },
   "source": [
    "### Imports"
   ]
  },
  {
   "cell_type": "code",
   "execution_count": 1,
   "metadata": {
    "ExecuteTime": {
     "end_time": "2019-11-05T18:59:28.247321Z",
     "start_time": "2019-11-05T18:59:27.481191Z"
    },
    "colab": {},
    "colab_type": "code",
    "id": "mtDBqO77Sl3i"
   },
   "outputs": [],
   "source": [
    "import numpy as np\n",
    "import pandas as pd\n",
    "import matplotlib.pyplot as plt\n",
    "import seaborn as sns\n",
    "import os\n",
    "import sqlite3 as sql"
   ]
  },
  {
   "cell_type": "code",
   "execution_count": 2,
   "metadata": {
    "ExecuteTime": {
     "end_time": "2019-11-05T18:59:28.739268Z",
     "start_time": "2019-11-05T18:59:28.733386Z"
    },
    "colab": {
     "base_uri": "https://localhost:8080/",
     "height": 34
    },
    "colab_type": "code",
    "id": "uH993ThfawrY",
    "outputId": "9f61f53f-1fe1-44b7-a87f-11bec19f7682"
   },
   "outputs": [
    {
     "data": {
      "text/plain": [
       "['amazon-fine-food-reviews.zip',\n",
       " 'hashes.txt',\n",
       " 'database.sqlite',\n",
       " 'Reviews.csv']"
      ]
     },
     "execution_count": 2,
     "metadata": {},
     "output_type": "execute_result"
    }
   ],
   "source": [
    "os.listdir('/home/parth/AppliedAI/datasets/amazon_fine_food')"
   ]
  },
  {
   "cell_type": "markdown",
   "metadata": {
    "colab_type": "text",
    "id": "74sPSpEGSl3t"
   },
   "source": [
    "### Make connections with the sql database"
   ]
  },
  {
   "cell_type": "code",
   "execution_count": 3,
   "metadata": {
    "ExecuteTime": {
     "end_time": "2019-11-05T18:59:31.640363Z",
     "start_time": "2019-11-05T18:59:31.629690Z"
    },
    "colab": {},
    "colab_type": "code",
    "id": "grxY0zV4Sl3w"
   },
   "outputs": [],
   "source": [
    "con = sql.connect('/home/parth/AppliedAI/datasets/amazon_fine_food/database.sqlite')"
   ]
  },
  {
   "cell_type": "markdown",
   "metadata": {
    "colab_type": "text",
    "id": "eB4GN33ISl32"
   },
   "source": [
    "### Make query to run on the database"
   ]
  },
  {
   "cell_type": "code",
   "execution_count": 4,
   "metadata": {
    "ExecuteTime": {
     "end_time": "2019-11-05T18:59:33.222305Z",
     "start_time": "2019-11-05T18:59:33.219426Z"
    },
    "colab": {},
    "colab_type": "code",
    "id": "FQOiXdiYSl35"
   },
   "outputs": [],
   "source": [
    "query = '''\n",
    "select * from reviews\n",
    "where score != 3'''"
   ]
  },
  {
   "cell_type": "markdown",
   "metadata": {
    "colab_type": "text",
    "id": "J2clWosrSl3_"
   },
   "source": [
    "### Retrieve Information from the db"
   ]
  },
  {
   "cell_type": "code",
   "execution_count": 5,
   "metadata": {
    "ExecuteTime": {
     "end_time": "2019-11-05T18:59:37.488352Z",
     "start_time": "2019-11-05T18:59:35.092380Z"
    },
    "colab": {},
    "colab_type": "code",
    "id": "259EDISWSl4B"
   },
   "outputs": [],
   "source": [
    "df = pd.read_sql_query(query,con)"
   ]
  },
  {
   "cell_type": "code",
   "execution_count": 6,
   "metadata": {
    "ExecuteTime": {
     "end_time": "2019-11-05T18:59:40.040520Z",
     "start_time": "2019-11-05T18:59:40.037297Z"
    },
    "colab": {
     "base_uri": "https://localhost:8080/",
     "height": 34
    },
    "colab_type": "code",
    "id": "_z42ixNRSl4G",
    "outputId": "49cd2a2f-2680-4b4f-eed8-6e8315090ee5"
   },
   "outputs": [
    {
     "name": "stdout",
     "output_type": "stream",
     "text": [
      "(525814, 10)\n"
     ]
    }
   ],
   "source": [
    "original_shape = df.shape\n",
    "print(original_shape)"
   ]
  },
  {
   "cell_type": "code",
   "execution_count": 7,
   "metadata": {
    "ExecuteTime": {
     "end_time": "2019-11-05T18:59:40.749619Z",
     "start_time": "2019-11-05T18:59:40.738449Z"
    },
    "colab": {
     "base_uri": "https://localhost:8080/",
     "height": 69
    },
    "colab_type": "code",
    "id": "YOs0wySSSl4P",
    "outputId": "e7d8cc04-189c-4422-fc3f-0c8dccbc5983"
   },
   "outputs": [
    {
     "data": {
      "text/plain": [
       "Index(['Id', 'ProductId', 'UserId', 'ProfileName', 'HelpfulnessNumerator',\n",
       "       'HelpfulnessDenominator', 'Score', 'Time', 'Summary', 'Text'],\n",
       "      dtype='object')"
      ]
     },
     "execution_count": 7,
     "metadata": {},
     "output_type": "execute_result"
    }
   ],
   "source": [
    "df.columns"
   ]
  },
  {
   "cell_type": "markdown",
   "metadata": {
    "colab_type": "text",
    "id": "ShycpIIvSl4W"
   },
   "source": [
    "### Creating New Column P/N from Score"
   ]
  },
  {
   "cell_type": "code",
   "execution_count": 8,
   "metadata": {
    "ExecuteTime": {
     "end_time": "2019-11-05T18:59:42.724569Z",
     "start_time": "2019-11-05T18:59:42.643137Z"
    },
    "colab": {},
    "colab_type": "code",
    "id": "IieLQJUNSl4X"
   },
   "outputs": [],
   "source": [
    "df['P/N'] = df['Score'].map(lambda x: 'Negative' if x < 3 else 'Positive')"
   ]
  },
  {
   "cell_type": "code",
   "execution_count": 9,
   "metadata": {
    "ExecuteTime": {
     "end_time": "2019-11-05T18:59:43.534338Z",
     "start_time": "2019-11-05T18:59:43.524991Z"
    },
    "colab": {
     "base_uri": "https://localhost:8080/",
     "height": 34
    },
    "colab_type": "code",
    "id": "SmLgm9f4Sl4c",
    "outputId": "d84f113e-86d0-4ef1-93af-e3502cfde8b2"
   },
   "outputs": [
    {
     "name": "stdout",
     "output_type": "stream",
     "text": [
      "(525814, 11)\n"
     ]
    }
   ],
   "source": [
    "original_shape = df.shape\n",
    "print(original_shape)"
   ]
  },
  {
   "cell_type": "markdown",
   "metadata": {
    "colab_type": "text",
    "id": "RLNMF9q2Sl4i"
   },
   "source": [
    "### Dropping Score Column"
   ]
  },
  {
   "cell_type": "code",
   "execution_count": 10,
   "metadata": {
    "ExecuteTime": {
     "end_time": "2019-11-05T18:59:45.737076Z",
     "start_time": "2019-11-05T18:59:45.399110Z"
    },
    "colab": {
     "base_uri": "https://localhost:8080/",
     "height": 34
    },
    "colab_type": "code",
    "id": "3mHzETZtSl4k",
    "outputId": "da61c44a-781b-4bb9-eeb2-9bbc6ef6e5e5"
   },
   "outputs": [
    {
     "data": {
      "text/plain": [
       "(525814, 10)"
      ]
     },
     "execution_count": 10,
     "metadata": {},
     "output_type": "execute_result"
    }
   ],
   "source": [
    "df.drop(axis=1,labels=['Score'],inplace=True)\n",
    "df.shape"
   ]
  },
  {
   "cell_type": "markdown",
   "metadata": {
    "colab_type": "text",
    "id": "-ZyWH3MDSl4q"
   },
   "source": [
    "## Data Cleaning"
   ]
  },
  {
   "cell_type": "markdown",
   "metadata": {
    "colab_type": "text",
    "id": "2vAqgpntSl4s"
   },
   "source": [
    "### Analyising the data "
   ]
  },
  {
   "cell_type": "code",
   "execution_count": 11,
   "metadata": {
    "ExecuteTime": {
     "end_time": "2019-11-05T18:59:48.809824Z",
     "start_time": "2019-11-05T18:59:48.806276Z"
    },
    "colab": {},
    "colab_type": "code",
    "id": "4dh-NUpuSl4u"
   },
   "outputs": [],
   "source": [
    "query_analysis = '''\n",
    "select userId , ProductId , count(*) as count \n",
    "from reviews \n",
    "group by UserId , ProductId \n",
    "having count > 1\n",
    "order by count desc\n",
    "'''"
   ]
  },
  {
   "cell_type": "code",
   "execution_count": 12,
   "metadata": {
    "ExecuteTime": {
     "end_time": "2019-11-05T18:59:50.638502Z",
     "start_time": "2019-11-05T18:59:49.903874Z"
    },
    "colab": {
     "base_uri": "https://localhost:8080/",
     "height": 424
    },
    "colab_type": "code",
    "id": "0bUK15KcSl4y",
    "outputId": "072e5d82-f88a-482d-e030-b5a509696f48"
   },
   "outputs": [
    {
     "data": {
      "text/html": [
       "<div>\n",
       "<style scoped>\n",
       "    .dataframe tbody tr th:only-of-type {\n",
       "        vertical-align: middle;\n",
       "    }\n",
       "\n",
       "    .dataframe tbody tr th {\n",
       "        vertical-align: top;\n",
       "    }\n",
       "\n",
       "    .dataframe thead th {\n",
       "        text-align: right;\n",
       "    }\n",
       "</style>\n",
       "<table border=\"1\" class=\"dataframe\">\n",
       "  <thead>\n",
       "    <tr style=\"text-align: right;\">\n",
       "      <th></th>\n",
       "      <th>UserId</th>\n",
       "      <th>ProductId</th>\n",
       "      <th>count</th>\n",
       "    </tr>\n",
       "  </thead>\n",
       "  <tbody>\n",
       "    <tr>\n",
       "      <th>0</th>\n",
       "      <td>A29JUMRL1US6YP</td>\n",
       "      <td>B000084EZ4</td>\n",
       "      <td>11</td>\n",
       "    </tr>\n",
       "    <tr>\n",
       "      <th>1</th>\n",
       "      <td>A29JUMRL1US6YP</td>\n",
       "      <td>B00008CQVA</td>\n",
       "      <td>11</td>\n",
       "    </tr>\n",
       "    <tr>\n",
       "      <th>2</th>\n",
       "      <td>A29JUMRL1US6YP</td>\n",
       "      <td>B000WFEN74</td>\n",
       "      <td>11</td>\n",
       "    </tr>\n",
       "    <tr>\n",
       "      <th>3</th>\n",
       "      <td>A29JUMRL1US6YP</td>\n",
       "      <td>B000WFKI82</td>\n",
       "      <td>11</td>\n",
       "    </tr>\n",
       "    <tr>\n",
       "      <th>4</th>\n",
       "      <td>A29JUMRL1US6YP</td>\n",
       "      <td>B000WFKWDI</td>\n",
       "      <td>11</td>\n",
       "    </tr>\n",
       "    <tr>\n",
       "      <th>...</th>\n",
       "      <td>...</td>\n",
       "      <td>...</td>\n",
       "      <td>...</td>\n",
       "    </tr>\n",
       "    <tr>\n",
       "      <th>5854</th>\n",
       "      <td>AZIX3BUCWX7AG</td>\n",
       "      <td>B0029ZAOW8</td>\n",
       "      <td>2</td>\n",
       "    </tr>\n",
       "    <tr>\n",
       "      <th>5855</th>\n",
       "      <td>AZIX3BUCWX7AG</td>\n",
       "      <td>B003QNJYXM</td>\n",
       "      <td>2</td>\n",
       "    </tr>\n",
       "    <tr>\n",
       "      <th>5856</th>\n",
       "      <td>AZIX3BUCWX7AG</td>\n",
       "      <td>B003QNLUTI</td>\n",
       "      <td>2</td>\n",
       "    </tr>\n",
       "    <tr>\n",
       "      <th>5857</th>\n",
       "      <td>AZNSBRQ0DS8LK</td>\n",
       "      <td>B004N5C7FE</td>\n",
       "      <td>2</td>\n",
       "    </tr>\n",
       "    <tr>\n",
       "      <th>5858</th>\n",
       "      <td>AZNSBRQ0DS8LK</td>\n",
       "      <td>B004N5G3OA</td>\n",
       "      <td>2</td>\n",
       "    </tr>\n",
       "  </tbody>\n",
       "</table>\n",
       "<p>5859 rows × 3 columns</p>\n",
       "</div>"
      ],
      "text/plain": [
       "              UserId   ProductId  count\n",
       "0     A29JUMRL1US6YP  B000084EZ4     11\n",
       "1     A29JUMRL1US6YP  B00008CQVA     11\n",
       "2     A29JUMRL1US6YP  B000WFEN74     11\n",
       "3     A29JUMRL1US6YP  B000WFKI82     11\n",
       "4     A29JUMRL1US6YP  B000WFKWDI     11\n",
       "...              ...         ...    ...\n",
       "5854   AZIX3BUCWX7AG  B0029ZAOW8      2\n",
       "5855   AZIX3BUCWX7AG  B003QNJYXM      2\n",
       "5856   AZIX3BUCWX7AG  B003QNLUTI      2\n",
       "5857   AZNSBRQ0DS8LK  B004N5C7FE      2\n",
       "5858   AZNSBRQ0DS8LK  B004N5G3OA      2\n",
       "\n",
       "[5859 rows x 3 columns]"
      ]
     },
     "execution_count": 12,
     "metadata": {},
     "output_type": "execute_result"
    }
   ],
   "source": [
    "pd.read_sql_query(query_analysis,con)"
   ]
  },
  {
   "cell_type": "markdown",
   "metadata": {
    "colab_type": "text",
    "id": "wByznH5ISl44"
   },
   "source": [
    "__Found some duplicate data for same product id__"
   ]
  },
  {
   "cell_type": "code",
   "execution_count": 13,
   "metadata": {
    "ExecuteTime": {
     "end_time": "2019-11-05T18:59:52.846929Z",
     "start_time": "2019-11-05T18:59:52.533424Z"
    },
    "colab": {
     "base_uri": "https://localhost:8080/",
     "height": 1000
    },
    "colab_type": "code",
    "id": "ZwALcOrZSl45",
    "outputId": "8c13162c-94dc-49a8-ae69-1bd8eb32a075",
    "scrolled": true
   },
   "outputs": [
    {
     "data": {
      "text/html": [
       "<div>\n",
       "<style scoped>\n",
       "    .dataframe tbody tr th:only-of-type {\n",
       "        vertical-align: middle;\n",
       "    }\n",
       "\n",
       "    .dataframe tbody tr th {\n",
       "        vertical-align: top;\n",
       "    }\n",
       "\n",
       "    .dataframe thead th {\n",
       "        text-align: right;\n",
       "    }\n",
       "</style>\n",
       "<table border=\"1\" class=\"dataframe\">\n",
       "  <thead>\n",
       "    <tr style=\"text-align: right;\">\n",
       "      <th></th>\n",
       "      <th>Id</th>\n",
       "      <th>ProductId</th>\n",
       "      <th>UserId</th>\n",
       "      <th>ProfileName</th>\n",
       "      <th>HelpfulnessNumerator</th>\n",
       "      <th>HelpfulnessDenominator</th>\n",
       "      <th>Score</th>\n",
       "      <th>Time</th>\n",
       "      <th>Summary</th>\n",
       "      <th>Text</th>\n",
       "    </tr>\n",
       "  </thead>\n",
       "  <tbody>\n",
       "    <tr>\n",
       "      <th>0</th>\n",
       "      <td>410191</td>\n",
       "      <td>B000084EZ4</td>\n",
       "      <td>A29JUMRL1US6YP</td>\n",
       "      <td>HTBK</td>\n",
       "      <td>3</td>\n",
       "      <td>4</td>\n",
       "      <td>5</td>\n",
       "      <td>1278201600</td>\n",
       "      <td>Fantastic Food for Good Cat Health</td>\n",
       "      <td>The pet food industry can be one of the most i...</td>\n",
       "    </tr>\n",
       "    <tr>\n",
       "      <th>1</th>\n",
       "      <td>410234</td>\n",
       "      <td>B000084EZ4</td>\n",
       "      <td>A29JUMRL1US6YP</td>\n",
       "      <td>HTBK</td>\n",
       "      <td>38</td>\n",
       "      <td>40</td>\n",
       "      <td>5</td>\n",
       "      <td>1278201600</td>\n",
       "      <td>Fantastic Food for Good Cat Health</td>\n",
       "      <td>The pet food industry can be one of the most i...</td>\n",
       "    </tr>\n",
       "    <tr>\n",
       "      <th>2</th>\n",
       "      <td>410240</td>\n",
       "      <td>B000084EZ4</td>\n",
       "      <td>A29JUMRL1US6YP</td>\n",
       "      <td>HTBK</td>\n",
       "      <td>19</td>\n",
       "      <td>23</td>\n",
       "      <td>5</td>\n",
       "      <td>1278201600</td>\n",
       "      <td>Fantastic Food for Good Cat Health</td>\n",
       "      <td>The pet food industry can be one of the most i...</td>\n",
       "    </tr>\n",
       "    <tr>\n",
       "      <th>3</th>\n",
       "      <td>410243</td>\n",
       "      <td>B000084EZ4</td>\n",
       "      <td>A29JUMRL1US6YP</td>\n",
       "      <td>HTBK</td>\n",
       "      <td>12</td>\n",
       "      <td>14</td>\n",
       "      <td>5</td>\n",
       "      <td>1278201600</td>\n",
       "      <td>Fantastic Food for Good Cat Health</td>\n",
       "      <td>The pet food industry can be one of the most i...</td>\n",
       "    </tr>\n",
       "    <tr>\n",
       "      <th>4</th>\n",
       "      <td>410250</td>\n",
       "      <td>B000084EZ4</td>\n",
       "      <td>A29JUMRL1US6YP</td>\n",
       "      <td>HTBK</td>\n",
       "      <td>7</td>\n",
       "      <td>8</td>\n",
       "      <td>5</td>\n",
       "      <td>1278201600</td>\n",
       "      <td>Fantastic Food for Good Cat Health</td>\n",
       "      <td>The pet food industry can be one of the most i...</td>\n",
       "    </tr>\n",
       "    <tr>\n",
       "      <th>5</th>\n",
       "      <td>410254</td>\n",
       "      <td>B000084EZ4</td>\n",
       "      <td>A29JUMRL1US6YP</td>\n",
       "      <td>HTBK</td>\n",
       "      <td>4</td>\n",
       "      <td>4</td>\n",
       "      <td>5</td>\n",
       "      <td>1278201600</td>\n",
       "      <td>Fantastic Food for Good Cat Health</td>\n",
       "      <td>The pet food industry can be one of the most i...</td>\n",
       "    </tr>\n",
       "    <tr>\n",
       "      <th>6</th>\n",
       "      <td>410267</td>\n",
       "      <td>B000084EZ4</td>\n",
       "      <td>A29JUMRL1US6YP</td>\n",
       "      <td>HTBK</td>\n",
       "      <td>3</td>\n",
       "      <td>3</td>\n",
       "      <td>5</td>\n",
       "      <td>1278201600</td>\n",
       "      <td>Fantastic Food for Good Cat Health</td>\n",
       "      <td>The pet food industry can be one of the most i...</td>\n",
       "    </tr>\n",
       "    <tr>\n",
       "      <th>7</th>\n",
       "      <td>410268</td>\n",
       "      <td>B000084EZ4</td>\n",
       "      <td>A29JUMRL1US6YP</td>\n",
       "      <td>HTBK</td>\n",
       "      <td>3</td>\n",
       "      <td>3</td>\n",
       "      <td>5</td>\n",
       "      <td>1278201600</td>\n",
       "      <td>Fantastic Food for Good Cat Health</td>\n",
       "      <td>The pet food industry can be one of the most i...</td>\n",
       "    </tr>\n",
       "    <tr>\n",
       "      <th>8</th>\n",
       "      <td>410275</td>\n",
       "      <td>B000084EZ4</td>\n",
       "      <td>A29JUMRL1US6YP</td>\n",
       "      <td>HTBK</td>\n",
       "      <td>5</td>\n",
       "      <td>6</td>\n",
       "      <td>5</td>\n",
       "      <td>1278201600</td>\n",
       "      <td>Fantastic Food for Good Cat Health</td>\n",
       "      <td>The pet food industry can be one of the most i...</td>\n",
       "    </tr>\n",
       "    <tr>\n",
       "      <th>9</th>\n",
       "      <td>410300</td>\n",
       "      <td>B000084EZ4</td>\n",
       "      <td>A29JUMRL1US6YP</td>\n",
       "      <td>HTBK</td>\n",
       "      <td>2</td>\n",
       "      <td>2</td>\n",
       "      <td>5</td>\n",
       "      <td>1278201600</td>\n",
       "      <td>Fantastic Food for Good Cat Health</td>\n",
       "      <td>The pet food industry can be one of the most i...</td>\n",
       "    </tr>\n",
       "    <tr>\n",
       "      <th>10</th>\n",
       "      <td>410304</td>\n",
       "      <td>B000084EZ4</td>\n",
       "      <td>A29JUMRL1US6YP</td>\n",
       "      <td>HTBK</td>\n",
       "      <td>4</td>\n",
       "      <td>5</td>\n",
       "      <td>5</td>\n",
       "      <td>1278201600</td>\n",
       "      <td>Fantastic Food for Good Cat Health</td>\n",
       "      <td>The pet food industry can be one of the most i...</td>\n",
       "    </tr>\n",
       "  </tbody>\n",
       "</table>\n",
       "</div>"
      ],
      "text/plain": [
       "        Id   ProductId          UserId ProfileName  HelpfulnessNumerator  \\\n",
       "0   410191  B000084EZ4  A29JUMRL1US6YP        HTBK                     3   \n",
       "1   410234  B000084EZ4  A29JUMRL1US6YP        HTBK                    38   \n",
       "2   410240  B000084EZ4  A29JUMRL1US6YP        HTBK                    19   \n",
       "3   410243  B000084EZ4  A29JUMRL1US6YP        HTBK                    12   \n",
       "4   410250  B000084EZ4  A29JUMRL1US6YP        HTBK                     7   \n",
       "5   410254  B000084EZ4  A29JUMRL1US6YP        HTBK                     4   \n",
       "6   410267  B000084EZ4  A29JUMRL1US6YP        HTBK                     3   \n",
       "7   410268  B000084EZ4  A29JUMRL1US6YP        HTBK                     3   \n",
       "8   410275  B000084EZ4  A29JUMRL1US6YP        HTBK                     5   \n",
       "9   410300  B000084EZ4  A29JUMRL1US6YP        HTBK                     2   \n",
       "10  410304  B000084EZ4  A29JUMRL1US6YP        HTBK                     4   \n",
       "\n",
       "    HelpfulnessDenominator  Score        Time  \\\n",
       "0                        4      5  1278201600   \n",
       "1                       40      5  1278201600   \n",
       "2                       23      5  1278201600   \n",
       "3                       14      5  1278201600   \n",
       "4                        8      5  1278201600   \n",
       "5                        4      5  1278201600   \n",
       "6                        3      5  1278201600   \n",
       "7                        3      5  1278201600   \n",
       "8                        6      5  1278201600   \n",
       "9                        2      5  1278201600   \n",
       "10                       5      5  1278201600   \n",
       "\n",
       "                               Summary  \\\n",
       "0   Fantastic Food for Good Cat Health   \n",
       "1   Fantastic Food for Good Cat Health   \n",
       "2   Fantastic Food for Good Cat Health   \n",
       "3   Fantastic Food for Good Cat Health   \n",
       "4   Fantastic Food for Good Cat Health   \n",
       "5   Fantastic Food for Good Cat Health   \n",
       "6   Fantastic Food for Good Cat Health   \n",
       "7   Fantastic Food for Good Cat Health   \n",
       "8   Fantastic Food for Good Cat Health   \n",
       "9   Fantastic Food for Good Cat Health   \n",
       "10  Fantastic Food for Good Cat Health   \n",
       "\n",
       "                                                 Text  \n",
       "0   The pet food industry can be one of the most i...  \n",
       "1   The pet food industry can be one of the most i...  \n",
       "2   The pet food industry can be one of the most i...  \n",
       "3   The pet food industry can be one of the most i...  \n",
       "4   The pet food industry can be one of the most i...  \n",
       "5   The pet food industry can be one of the most i...  \n",
       "6   The pet food industry can be one of the most i...  \n",
       "7   The pet food industry can be one of the most i...  \n",
       "8   The pet food industry can be one of the most i...  \n",
       "9   The pet food industry can be one of the most i...  \n",
       "10  The pet food industry can be one of the most i...  "
      ]
     },
     "execution_count": 13,
     "metadata": {},
     "output_type": "execute_result"
    }
   ],
   "source": [
    "query_finding = '''\n",
    "select * \n",
    "from reviews\n",
    "where UserId = 'A29JUMRL1US6YP' \n",
    "and  ProductId = 'B000084EZ4' '''\n",
    "pd.read_sql_query(query_finding,con)"
   ]
  },
  {
   "cell_type": "code",
   "execution_count": 14,
   "metadata": {
    "ExecuteTime": {
     "end_time": "2019-11-05T18:59:54.068610Z",
     "start_time": "2019-11-05T18:59:53.662279Z"
    },
    "colab": {
     "base_uri": "https://localhost:8080/",
     "height": 206
    },
    "colab_type": "code",
    "id": "RYnsoiLhSl4-",
    "outputId": "45339f91-4438-466d-8484-28f72b3c100c"
   },
   "outputs": [
    {
     "data": {
      "text/html": [
       "<div>\n",
       "<style scoped>\n",
       "    .dataframe tbody tr th:only-of-type {\n",
       "        vertical-align: middle;\n",
       "    }\n",
       "\n",
       "    .dataframe tbody tr th {\n",
       "        vertical-align: top;\n",
       "    }\n",
       "\n",
       "    .dataframe thead th {\n",
       "        text-align: right;\n",
       "    }\n",
       "</style>\n",
       "<table border=\"1\" class=\"dataframe\">\n",
       "  <thead>\n",
       "    <tr style=\"text-align: right;\">\n",
       "      <th></th>\n",
       "      <th>Score</th>\n",
       "      <th>count</th>\n",
       "    </tr>\n",
       "  </thead>\n",
       "  <tbody>\n",
       "    <tr>\n",
       "      <th>0</th>\n",
       "      <td>5</td>\n",
       "      <td>363122</td>\n",
       "    </tr>\n",
       "    <tr>\n",
       "      <th>1</th>\n",
       "      <td>4</td>\n",
       "      <td>80655</td>\n",
       "    </tr>\n",
       "    <tr>\n",
       "      <th>2</th>\n",
       "      <td>1</td>\n",
       "      <td>52268</td>\n",
       "    </tr>\n",
       "    <tr>\n",
       "      <th>3</th>\n",
       "      <td>3</td>\n",
       "      <td>42640</td>\n",
       "    </tr>\n",
       "    <tr>\n",
       "      <th>4</th>\n",
       "      <td>2</td>\n",
       "      <td>29769</td>\n",
       "    </tr>\n",
       "  </tbody>\n",
       "</table>\n",
       "</div>"
      ],
      "text/plain": [
       "   Score   count\n",
       "0      5  363122\n",
       "1      4   80655\n",
       "2      1   52268\n",
       "3      3   42640\n",
       "4      2   29769"
      ]
     },
     "execution_count": 14,
     "metadata": {},
     "output_type": "execute_result"
    }
   ],
   "source": [
    "pd.read_sql_query('''\n",
    "select score , count(*) as count\n",
    "from reviews\n",
    "group by score \n",
    "order by count desc''',con)"
   ]
  },
  {
   "cell_type": "code",
   "execution_count": 15,
   "metadata": {
    "ExecuteTime": {
     "end_time": "2019-11-05T18:59:56.955179Z",
     "start_time": "2019-11-05T18:59:55.142924Z"
    },
    "colab": {
     "base_uri": "https://localhost:8080/",
     "height": 424
    },
    "colab_type": "code",
    "id": "yYYCjBOjSl5C",
    "outputId": "4f981d1a-8936-4e53-d4ac-ab4c23d405f3"
   },
   "outputs": [
    {
     "data": {
      "text/html": [
       "<div>\n",
       "<style scoped>\n",
       "    .dataframe tbody tr th:only-of-type {\n",
       "        vertical-align: middle;\n",
       "    }\n",
       "\n",
       "    .dataframe tbody tr th {\n",
       "        vertical-align: top;\n",
       "    }\n",
       "\n",
       "    .dataframe thead th {\n",
       "        text-align: right;\n",
       "    }\n",
       "</style>\n",
       "<table border=\"1\" class=\"dataframe\">\n",
       "  <thead>\n",
       "    <tr style=\"text-align: right;\">\n",
       "      <th></th>\n",
       "      <th>UserId</th>\n",
       "      <th>ProfileName</th>\n",
       "      <th>Time</th>\n",
       "      <th>Text</th>\n",
       "      <th>count</th>\n",
       "    </tr>\n",
       "  </thead>\n",
       "  <tbody>\n",
       "    <tr>\n",
       "      <th>0</th>\n",
       "      <td>A3TVZM3ZIXG8YW</td>\n",
       "      <td>christopher hayes</td>\n",
       "      <td>1291420800</td>\n",
       "      <td>This review will make me sound really stupid, ...</td>\n",
       "      <td>199</td>\n",
       "    </tr>\n",
       "    <tr>\n",
       "      <th>1</th>\n",
       "      <td>A36JDIN9RAAIEC</td>\n",
       "      <td>Jon</td>\n",
       "      <td>1292976000</td>\n",
       "      <td>I have two cats, one 6 and one 2 years old. Bo...</td>\n",
       "      <td>51</td>\n",
       "    </tr>\n",
       "    <tr>\n",
       "      <th>2</th>\n",
       "      <td>A29JUMRL1US6YP</td>\n",
       "      <td>HTBK</td>\n",
       "      <td>1278201600</td>\n",
       "      <td>The pet food industry can be one of the most i...</td>\n",
       "      <td>45</td>\n",
       "    </tr>\n",
       "    <tr>\n",
       "      <th>3</th>\n",
       "      <td>A1TMAVN4CEM8U8</td>\n",
       "      <td>Gunner</td>\n",
       "      <td>1336348800</td>\n",
       "      <td>Diamond Almonds&lt;br /&gt;Almonds are a good source...</td>\n",
       "      <td>43</td>\n",
       "    </tr>\n",
       "    <tr>\n",
       "      <th>4</th>\n",
       "      <td>A1UQBFCERIP7VJ</td>\n",
       "      <td>Margaret Picky</td>\n",
       "      <td>1321401600</td>\n",
       "      <td>Stash Chamomile Herbal Tea is tea bags with dr...</td>\n",
       "      <td>38</td>\n",
       "    </tr>\n",
       "    <tr>\n",
       "      <th>...</th>\n",
       "      <td>...</td>\n",
       "      <td>...</td>\n",
       "      <td>...</td>\n",
       "      <td>...</td>\n",
       "      <td>...</td>\n",
       "    </tr>\n",
       "    <tr>\n",
       "      <th>57889</th>\n",
       "      <td>AZYIAWJR9972L</td>\n",
       "      <td>Lovin' retirement</td>\n",
       "      <td>1247529600</td>\n",
       "      <td>Cats are a finicky bunch, mine in particular. ...</td>\n",
       "      <td>2</td>\n",
       "    </tr>\n",
       "    <tr>\n",
       "      <th>57890</th>\n",
       "      <td>AZZA4Q0JACD5U</td>\n",
       "      <td>Driver \"Suzanne S\"</td>\n",
       "      <td>1278374400</td>\n",
       "      <td>Twinings English Breakfast Tea is a fairly str...</td>\n",
       "      <td>2</td>\n",
       "    </tr>\n",
       "    <tr>\n",
       "      <th>57891</th>\n",
       "      <td>AZZA4Q0JACD5U</td>\n",
       "      <td>Driver \"Suzanne S\"</td>\n",
       "      <td>1340582400</td>\n",
       "      <td>I buy this product for two reasons:  I drink a...</td>\n",
       "      <td>2</td>\n",
       "    </tr>\n",
       "    <tr>\n",
       "      <th>57892</th>\n",
       "      <td>AZZTH6DJ0KSIP</td>\n",
       "      <td>Crystal Caccamo</td>\n",
       "      <td>1304208000</td>\n",
       "      <td>ive bought a few different kinds and i feel th...</td>\n",
       "      <td>2</td>\n",
       "    </tr>\n",
       "    <tr>\n",
       "      <th>57893</th>\n",
       "      <td>AZZU4D6TZ2L6J</td>\n",
       "      <td>Sherry King \"llamasmama\"</td>\n",
       "      <td>1247875200</td>\n",
       "      <td>My father thought this was the best cheese eve...</td>\n",
       "      <td>2</td>\n",
       "    </tr>\n",
       "  </tbody>\n",
       "</table>\n",
       "<p>57894 rows × 5 columns</p>\n",
       "</div>"
      ],
      "text/plain": [
       "               UserId               ProfileName        Time  \\\n",
       "0      A3TVZM3ZIXG8YW         christopher hayes  1291420800   \n",
       "1      A36JDIN9RAAIEC                       Jon  1292976000   \n",
       "2      A29JUMRL1US6YP                      HTBK  1278201600   \n",
       "3      A1TMAVN4CEM8U8                    Gunner  1336348800   \n",
       "4      A1UQBFCERIP7VJ            Margaret Picky  1321401600   \n",
       "...               ...                       ...         ...   \n",
       "57889   AZYIAWJR9972L         Lovin' retirement  1247529600   \n",
       "57890   AZZA4Q0JACD5U        Driver \"Suzanne S\"  1278374400   \n",
       "57891   AZZA4Q0JACD5U        Driver \"Suzanne S\"  1340582400   \n",
       "57892   AZZTH6DJ0KSIP           Crystal Caccamo  1304208000   \n",
       "57893   AZZU4D6TZ2L6J  Sherry King \"llamasmama\"  1247875200   \n",
       "\n",
       "                                                    Text  count  \n",
       "0      This review will make me sound really stupid, ...    199  \n",
       "1      I have two cats, one 6 and one 2 years old. Bo...     51  \n",
       "2      The pet food industry can be one of the most i...     45  \n",
       "3      Diamond Almonds<br />Almonds are a good source...     43  \n",
       "4      Stash Chamomile Herbal Tea is tea bags with dr...     38  \n",
       "...                                                  ...    ...  \n",
       "57889  Cats are a finicky bunch, mine in particular. ...      2  \n",
       "57890  Twinings English Breakfast Tea is a fairly str...      2  \n",
       "57891  I buy this product for two reasons:  I drink a...      2  \n",
       "57892  ive bought a few different kinds and i feel th...      2  \n",
       "57893  My father thought this was the best cheese eve...      2  \n",
       "\n",
       "[57894 rows x 5 columns]"
      ]
     },
     "execution_count": 15,
     "metadata": {},
     "output_type": "execute_result"
    }
   ],
   "source": [
    "temp =  pd.read_sql_query('''\n",
    "select UserId , ProfileName , Time , Text , count(*) as count\n",
    "from reviews\n",
    "group by UserId , ProfileName , Time , Text\n",
    "having count > 1\n",
    "order by count desc''',con)\n",
    "temp"
   ]
  },
  {
   "cell_type": "code",
   "execution_count": 16,
   "metadata": {
    "ExecuteTime": {
     "end_time": "2019-11-05T18:59:57.924224Z",
     "start_time": "2019-11-05T18:59:57.919875Z"
    },
    "colab": {
     "base_uri": "https://localhost:8080/",
     "height": 34
    },
    "colab_type": "code",
    "id": "rnWDex8KSl5I",
    "outputId": "cf1133fa-384b-4853-974f-cbefe5ed613f"
   },
   "outputs": [
    {
     "data": {
      "text/plain": [
       "232415"
      ]
     },
     "execution_count": 16,
     "metadata": {},
     "output_type": "execute_result"
    }
   ],
   "source": [
    "temp['count'].sum()"
   ]
  },
  {
   "cell_type": "code",
   "execution_count": 17,
   "metadata": {
    "ExecuteTime": {
     "end_time": "2019-11-05T18:59:59.794181Z",
     "start_time": "2019-11-05T18:59:59.120798Z"
    },
    "colab": {
     "base_uri": "https://localhost:8080/",
     "height": 81
    },
    "colab_type": "code",
    "id": "Zfz-RlDASl5M",
    "outputId": "abba9bf7-2c0d-48d1-a085-37356a3bcefa"
   },
   "outputs": [
    {
     "data": {
      "text/html": [
       "<div>\n",
       "<style scoped>\n",
       "    .dataframe tbody tr th:only-of-type {\n",
       "        vertical-align: middle;\n",
       "    }\n",
       "\n",
       "    .dataframe tbody tr th {\n",
       "        vertical-align: top;\n",
       "    }\n",
       "\n",
       "    .dataframe thead th {\n",
       "        text-align: right;\n",
       "    }\n",
       "</style>\n",
       "<table border=\"1\" class=\"dataframe\">\n",
       "  <thead>\n",
       "    <tr style=\"text-align: right;\">\n",
       "      <th></th>\n",
       "      <th>ProductId</th>\n",
       "      <th>UserId</th>\n",
       "      <th>Text</th>\n",
       "      <th>count</th>\n",
       "    </tr>\n",
       "  </thead>\n",
       "  <tbody>\n",
       "    <tr>\n",
       "      <th>0</th>\n",
       "      <td>B001EQ5O6Y</td>\n",
       "      <td>A31YNKI4TS6ZJW</td>\n",
       "      <td>I was hesitant about this product based on som...</td>\n",
       "      <td>3476</td>\n",
       "    </tr>\n",
       "  </tbody>\n",
       "</table>\n",
       "</div>"
      ],
      "text/plain": [
       "    ProductId          UserId  \\\n",
       "0  B001EQ5O6Y  A31YNKI4TS6ZJW   \n",
       "\n",
       "                                                Text  count  \n",
       "0  I was hesitant about this product based on som...   3476  "
      ]
     },
     "execution_count": 17,
     "metadata": {},
     "output_type": "execute_result"
    }
   ],
   "source": [
    "pd.read_sql_query('''\n",
    "select ProductId, UserId , Text , count(*) as count\n",
    "from reviews\n",
    "where lower(text) like '%book%' ''',con)"
   ]
  },
  {
   "cell_type": "markdown",
   "metadata": {
    "colab_type": "text",
    "id": "jbRBJgClSl5R"
   },
   "source": [
    "### Sorting the Data using ProductId"
   ]
  },
  {
   "cell_type": "code",
   "execution_count": 18,
   "metadata": {
    "ExecuteTime": {
     "end_time": "2019-11-05T19:00:02.441540Z",
     "start_time": "2019-11-05T19:00:01.659970Z"
    },
    "colab": {
     "base_uri": "https://localhost:8080/",
     "height": 375
    },
    "colab_type": "code",
    "id": "aF_VR09XSl5S",
    "outputId": "96d39da2-fab1-4ed0-f74a-059a062d4590"
   },
   "outputs": [
    {
     "data": {
      "text/html": [
       "<div>\n",
       "<style scoped>\n",
       "    .dataframe tbody tr th:only-of-type {\n",
       "        vertical-align: middle;\n",
       "    }\n",
       "\n",
       "    .dataframe tbody tr th {\n",
       "        vertical-align: top;\n",
       "    }\n",
       "\n",
       "    .dataframe thead th {\n",
       "        text-align: right;\n",
       "    }\n",
       "</style>\n",
       "<table border=\"1\" class=\"dataframe\">\n",
       "  <thead>\n",
       "    <tr style=\"text-align: right;\">\n",
       "      <th></th>\n",
       "      <th>Id</th>\n",
       "      <th>ProductId</th>\n",
       "      <th>UserId</th>\n",
       "      <th>ProfileName</th>\n",
       "      <th>HelpfulnessNumerator</th>\n",
       "      <th>HelpfulnessDenominator</th>\n",
       "      <th>Time</th>\n",
       "      <th>Summary</th>\n",
       "      <th>Text</th>\n",
       "      <th>P/N</th>\n",
       "    </tr>\n",
       "  </thead>\n",
       "  <tbody>\n",
       "    <tr>\n",
       "      <th>138706</th>\n",
       "      <td>150524</td>\n",
       "      <td>0006641040</td>\n",
       "      <td>ACITT7DI6IDDL</td>\n",
       "      <td>shari zychinski</td>\n",
       "      <td>0</td>\n",
       "      <td>0</td>\n",
       "      <td>939340800</td>\n",
       "      <td>EVERY book is educational</td>\n",
       "      <td>this witty little book makes my son laugh at l...</td>\n",
       "      <td>Positive</td>\n",
       "    </tr>\n",
       "    <tr>\n",
       "      <th>138688</th>\n",
       "      <td>150506</td>\n",
       "      <td>0006641040</td>\n",
       "      <td>A2IW4PEEKO2R0U</td>\n",
       "      <td>Tracy</td>\n",
       "      <td>1</td>\n",
       "      <td>1</td>\n",
       "      <td>1194739200</td>\n",
       "      <td>Love the book, miss the hard cover version</td>\n",
       "      <td>I grew up reading these Sendak books, and watc...</td>\n",
       "      <td>Positive</td>\n",
       "    </tr>\n",
       "  </tbody>\n",
       "</table>\n",
       "</div>"
      ],
      "text/plain": [
       "            Id   ProductId          UserId      ProfileName  \\\n",
       "138706  150524  0006641040   ACITT7DI6IDDL  shari zychinski   \n",
       "138688  150506  0006641040  A2IW4PEEKO2R0U            Tracy   \n",
       "\n",
       "        HelpfulnessNumerator  HelpfulnessDenominator        Time  \\\n",
       "138706                     0                       0   939340800   \n",
       "138688                     1                       1  1194739200   \n",
       "\n",
       "                                           Summary  \\\n",
       "138706                   EVERY book is educational   \n",
       "138688  Love the book, miss the hard cover version   \n",
       "\n",
       "                                                     Text       P/N  \n",
       "138706  this witty little book makes my son laugh at l...  Positive  \n",
       "138688  I grew up reading these Sendak books, and watc...  Positive  "
      ]
     },
     "execution_count": 18,
     "metadata": {},
     "output_type": "execute_result"
    }
   ],
   "source": [
    "df.sort_values('ProductId',axis=0,ascending=True,inplace=True)\n",
    "df.head(2)"
   ]
  },
  {
   "cell_type": "code",
   "execution_count": 19,
   "metadata": {
    "ExecuteTime": {
     "end_time": "2019-11-05T19:00:03.048295Z",
     "start_time": "2019-11-05T19:00:03.037779Z"
    },
    "colab": {
     "base_uri": "https://localhost:8080/",
     "height": 34
    },
    "colab_type": "code",
    "id": "bvuRNvcdSl5X",
    "outputId": "86f0e283-4e35-4f3c-e7d0-a2850ff91290"
   },
   "outputs": [
    {
     "data": {
      "text/plain": [
       "(525814, 10)"
      ]
     },
     "execution_count": 19,
     "metadata": {},
     "output_type": "execute_result"
    }
   ],
   "source": [
    "df.shape"
   ]
  },
  {
   "cell_type": "markdown",
   "metadata": {
    "colab_type": "text",
    "id": "Waoiien5Sl5c"
   },
   "source": [
    "### Dropping Duplicates from the dataframe on the basis of UserId , ProfileName , Time and Text"
   ]
  },
  {
   "cell_type": "code",
   "execution_count": 20,
   "metadata": {
    "ExecuteTime": {
     "end_time": "2019-11-05T19:00:06.863558Z",
     "start_time": "2019-11-05T19:00:05.815489Z"
    },
    "colab": {
     "base_uri": "https://localhost:8080/",
     "height": 34
    },
    "colab_type": "code",
    "id": "q713G89NSl5d",
    "outputId": "69e2e95b-7a51-4f70-fe8f-cc30b7d889eb"
   },
   "outputs": [
    {
     "data": {
      "text/plain": [
       "(364173, 10)"
      ]
     },
     "execution_count": 20,
     "metadata": {},
     "output_type": "execute_result"
    }
   ],
   "source": [
    "df.drop_duplicates(subset=['UserId','ProfileName','Time','Text'],inplace=True)\n",
    "df.shape"
   ]
  },
  {
   "cell_type": "markdown",
   "metadata": {
    "colab_type": "text",
    "id": "IwMminUFSl5i"
   },
   "source": [
    "### Checking for the HelpfulnessNumerator always be smaller than HelpfullnessDenominator"
   ]
  },
  {
   "cell_type": "code",
   "execution_count": 21,
   "metadata": {
    "ExecuteTime": {
     "end_time": "2019-11-05T19:00:08.495882Z",
     "start_time": "2019-11-05T19:00:08.384479Z"
    },
    "colab": {
     "base_uri": "https://localhost:8080/",
     "height": 34
    },
    "colab_type": "code",
    "id": "q5uKCwMoSl5k",
    "outputId": "a156786e-1d96-4cc1-fd12-ae897e74ee9d"
   },
   "outputs": [
    {
     "name": "stdout",
     "output_type": "stream",
     "text": [
      "(364171, 10)\n"
     ]
    }
   ],
   "source": [
    "df = df[df['HelpfulnessNumerator'] <= df['HelpfulnessDenominator']]\n",
    "current_shape = df.shape\n",
    "print(current_shape)"
   ]
  },
  {
   "cell_type": "markdown",
   "metadata": {
    "colab_type": "text",
    "id": "rpTMCvSSSl5n"
   },
   "source": [
    "### Checking the % of Data left from the orginal data"
   ]
  },
  {
   "cell_type": "code",
   "execution_count": 22,
   "metadata": {
    "ExecuteTime": {
     "end_time": "2019-11-05T19:00:10.311831Z",
     "start_time": "2019-11-05T19:00:10.308306Z"
    },
    "colab": {
     "base_uri": "https://localhost:8080/",
     "height": 34
    },
    "colab_type": "code",
    "id": "TY8AGawcSl5p",
    "outputId": "7443092f-6c91-4e90-9614-7ae2e0269d20"
   },
   "outputs": [
    {
     "name": "stdout",
     "output_type": "stream",
     "text": [
      "69.25852107399194% of data left from the original data\n"
     ]
    }
   ],
   "source": [
    "data_percentage_left = (current_shape[0]/original_shape[0]) * 100\n",
    "print('{}% of data left from the original data'.format(data_percentage_left))"
   ]
  },
  {
   "cell_type": "code",
   "execution_count": 23,
   "metadata": {
    "ExecuteTime": {
     "end_time": "2019-11-05T19:00:11.289412Z",
     "start_time": "2019-11-05T19:00:11.257467Z"
    },
    "colab": {
     "base_uri": "https://localhost:8080/",
     "height": 69
    },
    "colab_type": "code",
    "id": "bsTQ71J0Sl5t",
    "outputId": "57bcfafa-e18b-48d4-a674-bc06fd85dd51"
   },
   "outputs": [
    {
     "data": {
      "text/plain": [
       "Positive    307061\n",
       "Negative     57110\n",
       "Name: P/N, dtype: int64"
      ]
     },
     "execution_count": 23,
     "metadata": {},
     "output_type": "execute_result"
    }
   ],
   "source": [
    "df['P/N'].value_counts()"
   ]
  },
  {
   "cell_type": "markdown",
   "metadata": {
    "colab_type": "text",
    "id": "RNvajkrIS4th"
   },
   "source": [
    "## Bag Of Words"
   ]
  },
  {
   "cell_type": "markdown",
   "metadata": {
    "colab_type": "text",
    "id": "no-d5Z9ETynP"
   },
   "source": [
    "### Imports"
   ]
  },
  {
   "cell_type": "code",
   "execution_count": 24,
   "metadata": {
    "ExecuteTime": {
     "end_time": "2019-11-05T19:00:14.134896Z",
     "start_time": "2019-11-05T19:00:13.981340Z"
    },
    "colab": {},
    "colab_type": "code",
    "id": "j_IfsnSCT15X"
   },
   "outputs": [],
   "source": [
    "from sklearn.feature_extraction.text import CountVectorizer"
   ]
  },
  {
   "cell_type": "markdown",
   "metadata": {
    "colab_type": "text",
    "id": "Y-Y1sARsbyqz"
   },
   "source": [
    "### Creating the count vextorizer"
   ]
  },
  {
   "cell_type": "code",
   "execution_count": 25,
   "metadata": {
    "ExecuteTime": {
     "end_time": "2019-11-05T19:00:29.803520Z",
     "start_time": "2019-11-05T19:00:15.753910Z"
    },
    "colab": {},
    "colab_type": "code",
    "id": "cTaWqpKTb4DG"
   },
   "outputs": [],
   "source": [
    "cnt_vec = CountVectorizer()\n",
    "final_bow = cnt_vec.fit_transform(df['Text'].values)"
   ]
  },
  {
   "cell_type": "code",
   "execution_count": 26,
   "metadata": {
    "ExecuteTime": {
     "end_time": "2019-11-05T19:00:32.563546Z",
     "start_time": "2019-11-05T19:00:32.559761Z"
    },
    "colab": {
     "base_uri": "https://localhost:8080/",
     "height": 34
    },
    "colab_type": "code",
    "id": "Rw8Qc3JScUCK",
    "outputId": "bb3a69b2-2952-4930-e8c7-afe55e1aa5d8"
   },
   "outputs": [
    {
     "data": {
      "text/plain": [
       "scipy.sparse.csr.csr_matrix"
      ]
     },
     "execution_count": 26,
     "metadata": {},
     "output_type": "execute_result"
    }
   ],
   "source": [
    "type(final_bow)"
   ]
  },
  {
   "cell_type": "code",
   "execution_count": 27,
   "metadata": {
    "ExecuteTime": {
     "end_time": "2019-11-05T19:00:34.074489Z",
     "start_time": "2019-11-05T19:00:34.070533Z"
    },
    "colab": {
     "base_uri": "https://localhost:8080/",
     "height": 34
    },
    "colab_type": "code",
    "id": "8GaItgs2b8-S",
    "outputId": "d1380505-4f11-4faf-bea1-9d6b100b0009"
   },
   "outputs": [
    {
     "data": {
      "text/plain": [
       "(364171, 115281)"
      ]
     },
     "execution_count": 27,
     "metadata": {},
     "output_type": "execute_result"
    }
   ],
   "source": [
    "final_bow.shape"
   ]
  },
  {
   "cell_type": "markdown",
   "metadata": {
    "colab_type": "text",
    "id": "zgGn-cNRvmEU"
   },
   "source": [
    "## Text Preprocessing"
   ]
  },
  {
   "cell_type": "markdown",
   "metadata": {
    "colab_type": "text",
    "id": "LWeN2xy1v46I"
   },
   "source": [
    "### Imports"
   ]
  },
  {
   "cell_type": "code",
   "execution_count": 29,
   "metadata": {
    "ExecuteTime": {
     "end_time": "2019-11-05T19:01:21.052084Z",
     "start_time": "2019-11-05T19:01:20.937581Z"
    },
    "colab": {},
    "colab_type": "code",
    "id": "HgKBfOpLvqHX"
   },
   "outputs": [],
   "source": [
    "import numpy as np\n",
    "import re\n",
    "from bs4 import BeautifulSoup as bs\n",
    "from tqdm import tqdm"
   ]
  },
  {
   "cell_type": "markdown",
   "metadata": {
    "colab_type": "text",
    "id": "VogHo1qDyYHt"
   },
   "source": [
    "### Analysis of Dirty Data"
   ]
  },
  {
   "cell_type": "code",
   "execution_count": 30,
   "metadata": {
    "ExecuteTime": {
     "end_time": "2019-11-05T19:01:22.891509Z",
     "start_time": "2019-11-05T19:01:22.882724Z"
    },
    "colab": {
     "base_uri": "https://localhost:8080/",
     "height": 124
    },
    "colab_type": "code",
    "id": "gVzPAwG6vtBU",
    "outputId": "adcee1e9-3728-45af-ec12-8abddf801da0"
   },
   "outputs": [
    {
     "name": "stdout",
     "output_type": "stream",
     "text": [
      "I purchased this item to celebrate the birth of my grandson.  I should have opted for real cigars, they might have tasted better. These cigars were very hard and hurt my teeth to chew. Not to mention that these gum cigars were much too sweet.\n",
      "I have to admit it.  I love Starbucks Via, but what I don't like is the price.  Dollar for dollar Nescaf&eacute; Cl&aacute;sico is one of the better instant coffees out there.  If you read the reviews, the one done by \"The Old Grottomaster\" does an excellent job explaining how to best enjoy this coffee.  BTW, it is much cheaper at Wal-Mart, where you can actually pick up huge \"family size\" jars of this stuff for way less than the Amazon price.<br /><br />As a high school teacher I don't really have time during the day to watch my coffee brewing so I typically take a microwave safe thermal mug full of water, pop it in the microwave for three minutes, add one heaping teaspoon and I'm all set for the morning.  I have tried other brands of instant coffee and in my opinion, this one has the best overall taste.  The taste itself is a bit hard to describe, you know you are drinking coffee but it is just a bit bitter on the back end.  What I think is neat is the hotter the water is you use when you make it = more froth on the top of the mug once you have mixed the coffee in.  I have also tried the instant versions of Caf&eacute; Bustelo and Caf&eacute; Oro.  I believe that those two brands and Cl&aacute;sico are all sourced from Mexico, not that this really matters, though.<br /><br />Caffeine-wise, I wouldn't say this is the strongest coffee out there and if you do some research you will probably find that instant coffees tend to have less caffeine than their brewed counterpart.  But if you want something to warm you up, and you don't have time to brew a pot, give yourself some time to get used to this and I think you will be happy.\n",
      "I bought this to eat as part of Ducan's diet. The daily quantity required is really small. even though, after 2 weeks I started to have a rash all over my body. it took me a few trials and errors to narrow down its origin, but this is it: I recommend you do not buy this product. I had to through away the whole order. Will not buy from that manufacturer again.\n",
      "The idea seems logical and very attractive. But after 3 weeks it has trapped zero fleas. My cat has a flea allergy, so it doesn't take but one flea to set off her allergy. At night this is the only light except a night light in the bathroom. I'll try the suggestion to make the whole area dark except for the trap--maybe that will work.<br /><br />I have tried vacuuming, and the solution of vacuuming daily for 7 days seems more effective, although admittedly more work.<br /><br />Best think I can say about the flea trap is it makes a very effective night light.\n",
      "I have purchased this a number of times. What's different?<br /><br />This is a great product....so I recommend buying it somewhere else. They place huge, wide tape around all 5 boxes and it is still packaged in heavy plastic (which is fine). The tape is 100% unnecessary and there is no way to remove it without destroying the boxes. I have no idea why they chose to do this. I now have open boxes. ...Caveat emptor.\n"
     ]
    }
   ],
   "source": [
    "for i in range(0,5):\n",
    "    ind = np.random.randint(1,364171)\n",
    "    print(df.iloc[ind]['Text'])"
   ]
  },
  {
   "cell_type": "markdown",
   "metadata": {
    "colab_type": "text",
    "id": "NpbED55pZWV9"
   },
   "source": [
    "### Removing Url"
   ]
  },
  {
   "cell_type": "code",
   "execution_count": 31,
   "metadata": {
    "ExecuteTime": {
     "end_time": "2019-11-05T19:01:27.806104Z",
     "start_time": "2019-11-05T19:01:27.800581Z"
    },
    "colab": {},
    "colab_type": "code",
    "id": "k4diHUJS0PMM"
   },
   "outputs": [],
   "source": [
    "def url_remover(text):\n",
    "    return  re.sub(r'http\\S+',r'',text)\n"
   ]
  },
  {
   "cell_type": "markdown",
   "metadata": {
    "colab_type": "text",
    "id": "gAIOdLE7ZcYG"
   },
   "source": [
    "### Removing html Tags"
   ]
  },
  {
   "cell_type": "code",
   "execution_count": 32,
   "metadata": {
    "ExecuteTime": {
     "end_time": "2019-11-05T19:01:30.610261Z",
     "start_time": "2019-11-05T19:01:30.607306Z"
    },
    "colab": {},
    "colab_type": "code",
    "id": "U2tX2_qN1Wz9"
   },
   "outputs": [],
   "source": [
    "def html_tags_remover(text):\n",
    "  # This is a wrong way of doing because this will remove all the information with in the tag\n",
    "  # return re.sub(r'<.*?>',r'',text)\n",
    "  # Correct way is to use the bs4 beautifulsoup and extract text\n",
    "  return bs(text,'lxml').get_text()"
   ]
  },
  {
   "cell_type": "markdown",
   "metadata": {
    "colab_type": "text",
    "id": "855DYVBvyxec"
   },
   "source": [
    "### Changing the contracted words to expanded form\n",
    "\n",
    "**For example: won't =>  will not**"
   ]
  },
  {
   "cell_type": "code",
   "execution_count": 33,
   "metadata": {
    "ExecuteTime": {
     "end_time": "2019-11-05T19:01:32.585341Z",
     "start_time": "2019-11-05T19:01:32.579391Z"
    },
    "colab": {},
    "colab_type": "code",
    "id": "IRP8-yPX-YiQ"
   },
   "outputs": [],
   "source": [
    "# Changing the contracted words like won't to will not\n",
    "def decontracted(phrase):\n",
    "    # specific\n",
    "    phrase = re.sub(r\"won\\'t\", \"will not\", phrase)\n",
    "    phrase = re.sub(r\"can\\'t\", \"can not\", phrase)\n",
    "\n",
    "    # general\n",
    "    phrase = re.sub(r\"n\\'t\", \" not\", phrase)\n",
    "    phrase = re.sub(r\"\\'re\", \" are\", phrase)\n",
    "    phrase = re.sub(r\"\\'s\", \" is\", phrase)\n",
    "    phrase = re.sub(r\"\\'d\", \" would\", phrase)\n",
    "    phrase = re.sub(r\"\\'ll\", \" will\", phrase)\n",
    "    phrase = re.sub(r\"\\'t\", \" not\", phrase)\n",
    "    phrase = re.sub(r\"\\'ve\", \" have\", phrase)\n",
    "    phrase = re.sub(r\"\\'m\", \" am\", phrase)\n",
    "    return phrase"
   ]
  },
  {
   "cell_type": "markdown",
   "metadata": {
    "colab_type": "text",
    "id": "pSYMx0scWEdn"
   },
   "source": [
    "### Remove Words With Number"
   ]
  },
  {
   "cell_type": "code",
   "execution_count": 34,
   "metadata": {
    "ExecuteTime": {
     "end_time": "2019-11-05T19:01:34.923967Z",
     "start_time": "2019-11-05T19:01:34.918324Z"
    },
    "colab": {},
    "colab_type": "code",
    "id": "jWcyUlbxWJVb"
   },
   "outputs": [],
   "source": [
    "def alpha_numberic_remove(text):\n",
    "    return re.sub(r'\\S*\\d\\S*',r'',text).strip()"
   ]
  },
  {
   "cell_type": "markdown",
   "metadata": {
    "colab_type": "text",
    "id": "wBxKWTTBYLpx"
   },
   "source": [
    "### Remove Special Characters"
   ]
  },
  {
   "cell_type": "code",
   "execution_count": 35,
   "metadata": {
    "ExecuteTime": {
     "end_time": "2019-11-05T19:01:36.026735Z",
     "start_time": "2019-11-05T19:01:36.021640Z"
    },
    "colab": {},
    "colab_type": "code",
    "id": "iBDbCv_xYO_V"
   },
   "outputs": [],
   "source": [
    "def special_char_remover(text):\n",
    "    return re.sub(r'[^A-Za-z0-9 ]+',r'',text)"
   ]
  },
  {
   "cell_type": "markdown",
   "metadata": {
    "colab_type": "text",
    "id": "nvV-GK0Xays7"
   },
   "source": [
    "### Creating a set of stopwords and a function to remove them"
   ]
  },
  {
   "cell_type": "code",
   "execution_count": 36,
   "metadata": {
    "ExecuteTime": {
     "end_time": "2019-11-05T19:01:37.208149Z",
     "start_time": "2019-11-05T19:01:37.181463Z"
    },
    "colab": {},
    "colab_type": "code",
    "id": "tldnhiXra4tV"
   },
   "outputs": [],
   "source": [
    "# Removed no , nor , not as they will be useful \n",
    "# Added br as this is coming due to the \n",
    "def stopwords_remover(text):\n",
    "    stopwords= set(['br', 'the', 'i', 'me', 'my', 'myself', 'we', 'our', 'ours', 'ourselves', 'you', \"you're\", \"you've\",\\\n",
    "            \"you'll\", \"you'd\", 'your', 'yours', 'yourself', 'yourselves', 'he', 'him', 'his', 'himself', \\\n",
    "            'she', \"she's\", 'her', 'hers', 'herself', 'it', \"it's\", 'its', 'itself', 'they', 'them', 'their',\\\n",
    "            'theirs', 'themselves', 'what', 'which', 'who', 'whom', 'this', 'that', \"that'll\", 'these', 'those', \\\n",
    "            'am', 'is', 'are', 'was', 'were', 'be', 'been', 'being', 'have', 'has', 'had', 'having', 'do', 'does', \\\n",
    "            'did', 'doing', 'a', 'an', 'the', 'and', 'but', 'if', 'or', 'because', 'as', 'until', 'while', 'of', \\\n",
    "            'at', 'by', 'for', 'with', 'about', 'against', 'between', 'into', 'through', 'during', 'before', 'after',\\\n",
    "            'above', 'below', 'to', 'from', 'up', 'down', 'in', 'out', 'on', 'off', 'over', 'under', 'again', 'further',\\\n",
    "            'then', 'once', 'here', 'there', 'when', 'where', 'why', 'how', 'all', 'any', 'both', 'each', 'few', 'more',\\\n",
    "            'most', 'other', 'some', 'such', 'only', 'own', 'same', 'so', 'than', 'too', 'very', \\\n",
    "            's', 't', 'can', 'will', 'just', 'don', \"don't\", 'should', \"should've\", 'now', 'd', 'll', 'm', 'o', 're', \\\n",
    "            've', 'y', 'ain', 'aren', \"aren't\", 'couldn', \"couldn't\", 'didn', \"didn't\", 'doesn', \"doesn't\", 'hadn',\\\n",
    "            \"hadn't\", 'hasn', \"hasn't\", 'haven', \"haven't\", 'isn', \"isn't\", 'ma', 'mightn', \"mightn't\", 'mustn',\\\n",
    "            \"mustn't\", 'needn', \"needn't\", 'shan', \"shan't\", 'shouldn', \"shouldn't\", 'wasn', \"wasn't\", 'weren', \"weren't\", \\\n",
    "            'won', \"won't\", 'wouldn', \"wouldn't\"])\n",
    "    return ' '.join([words.lower() for words in text.split(' ') if words.lower() not in stopwords])"
   ]
  },
  {
   "cell_type": "markdown",
   "metadata": {},
   "source": [
    "### Testing the data cleaning functions"
   ]
  },
  {
   "cell_type": "code",
   "execution_count": 37,
   "metadata": {
    "ExecuteTime": {
     "end_time": "2019-11-05T19:01:40.080740Z",
     "start_time": "2019-11-05T19:01:40.060188Z"
    }
   },
   "outputs": [
    {
     "name": "stdout",
     "output_type": "stream",
     "text": [
      "After Removing URL\n",
      "I work hell no this shot  funck33 <html> <body shit  > won't we'll for themselves and br\n",
      "Html tags removing\n",
      "I work hell no this shot  funck33   won't we'll for themselves and br\n",
      "After decontraction\n",
      "I work hell no this shot  funck33   will not we will for themselves and br\n",
      "After Alpha numeric Removing\n",
      "I work hell no this shot     will not we will for themselves and br\n",
      "After Special Character Removing\n",
      "I work hell no this shot     will not we will for themselves and br\n",
      "After stop words Removal\n",
      "work hell no shot     not\n"
     ]
    }
   ],
   "source": [
    "message = \"I work hell no this shot  funck33 <html> <body shit https://what.com > won't we'll for themselves and br\"\n",
    "print('After Removing URL')\n",
    "\n",
    "message = url_remover(message)\n",
    "print(message)\n",
    "print('Html tags removing')\n",
    "message = html_tags_remover(message)\n",
    "print(message)\n",
    "print('After decontraction')\n",
    "\n",
    "message = decontracted(message)\n",
    "print(message)\n",
    "print('After Alpha numeric Removing')\n",
    "\n",
    "message = alpha_numberic_remove(message)\n",
    "print(message)\n",
    "print('After Special Character Removing')\n",
    "\n",
    "message = special_char_remover(message)\n",
    "print(message)\n",
    "\n",
    "print('After stop words Removal')\n",
    "message = stopwords_remover(message)\n",
    "print(message)"
   ]
  },
  {
   "cell_type": "markdown",
   "metadata": {
    "colab_type": "text",
    "id": "qnqNiHKac-XT"
   },
   "source": [
    "### Applying all the cleaner function"
   ]
  },
  {
   "cell_type": "code",
   "execution_count": 38,
   "metadata": {
    "ExecuteTime": {
     "end_time": "2019-11-05T19:03:26.573556Z",
     "start_time": "2019-11-05T19:01:43.836686Z"
    },
    "colab": {},
    "colab_type": "code",
    "id": "0ULIqsxBcXsv",
    "scrolled": false
   },
   "outputs": [
    {
     "data": {
      "text/html": [
       "<div>\n",
       "<style scoped>\n",
       "    .dataframe tbody tr th:only-of-type {\n",
       "        vertical-align: middle;\n",
       "    }\n",
       "\n",
       "    .dataframe tbody tr th {\n",
       "        vertical-align: top;\n",
       "    }\n",
       "\n",
       "    .dataframe thead th {\n",
       "        text-align: right;\n",
       "    }\n",
       "</style>\n",
       "<table border=\"1\" class=\"dataframe\">\n",
       "  <thead>\n",
       "    <tr style=\"text-align: right;\">\n",
       "      <th></th>\n",
       "      <th>Id</th>\n",
       "      <th>ProductId</th>\n",
       "      <th>UserId</th>\n",
       "      <th>ProfileName</th>\n",
       "      <th>HelpfulnessNumerator</th>\n",
       "      <th>HelpfulnessDenominator</th>\n",
       "      <th>Time</th>\n",
       "      <th>Summary</th>\n",
       "      <th>Text</th>\n",
       "      <th>P/N</th>\n",
       "      <th>Clean_Text</th>\n",
       "    </tr>\n",
       "  </thead>\n",
       "  <tbody>\n",
       "    <tr>\n",
       "      <th>138706</th>\n",
       "      <td>150524</td>\n",
       "      <td>0006641040</td>\n",
       "      <td>ACITT7DI6IDDL</td>\n",
       "      <td>shari zychinski</td>\n",
       "      <td>0</td>\n",
       "      <td>0</td>\n",
       "      <td>939340800</td>\n",
       "      <td>EVERY book is educational</td>\n",
       "      <td>this witty little book makes my son laugh at l...</td>\n",
       "      <td>Positive</td>\n",
       "      <td>witty little book makes son laugh loud recite ...</td>\n",
       "    </tr>\n",
       "    <tr>\n",
       "      <th>138688</th>\n",
       "      <td>150506</td>\n",
       "      <td>0006641040</td>\n",
       "      <td>A2IW4PEEKO2R0U</td>\n",
       "      <td>Tracy</td>\n",
       "      <td>1</td>\n",
       "      <td>1</td>\n",
       "      <td>1194739200</td>\n",
       "      <td>Love the book, miss the hard cover version</td>\n",
       "      <td>I grew up reading these Sendak books, and watc...</td>\n",
       "      <td>Positive</td>\n",
       "      <td>grew reading sendak books watching really rosi...</td>\n",
       "    </tr>\n",
       "    <tr>\n",
       "      <th>138689</th>\n",
       "      <td>150507</td>\n",
       "      <td>0006641040</td>\n",
       "      <td>A1S4A3IQ2MU7V4</td>\n",
       "      <td>sally sue \"sally sue\"</td>\n",
       "      <td>1</td>\n",
       "      <td>1</td>\n",
       "      <td>1191456000</td>\n",
       "      <td>chicken soup with rice months</td>\n",
       "      <td>This is a fun way for children to learn their ...</td>\n",
       "      <td>Positive</td>\n",
       "      <td>fun way children learn months year  learn poem...</td>\n",
       "    </tr>\n",
       "    <tr>\n",
       "      <th>138690</th>\n",
       "      <td>150508</td>\n",
       "      <td>0006641040</td>\n",
       "      <td>AZGXZ2UUK6X</td>\n",
       "      <td>Catherine Hallberg \"(Kate)\"</td>\n",
       "      <td>1</td>\n",
       "      <td>1</td>\n",
       "      <td>1076025600</td>\n",
       "      <td>a good swingy rhythm for reading aloud</td>\n",
       "      <td>This is a great little book to read aloud- it ...</td>\n",
       "      <td>Positive</td>\n",
       "      <td>great little book read aloud nice rhythm well ...</td>\n",
       "    </tr>\n",
       "    <tr>\n",
       "      <th>138691</th>\n",
       "      <td>150509</td>\n",
       "      <td>0006641040</td>\n",
       "      <td>A3CMRKGE0P909G</td>\n",
       "      <td>Teresa</td>\n",
       "      <td>3</td>\n",
       "      <td>4</td>\n",
       "      <td>1018396800</td>\n",
       "      <td>A great way to learn the months</td>\n",
       "      <td>This is a book of poetry about the months of t...</td>\n",
       "      <td>Positive</td>\n",
       "      <td>book poetry months year  goes month cute littl...</td>\n",
       "    </tr>\n",
       "  </tbody>\n",
       "</table>\n",
       "</div>"
      ],
      "text/plain": [
       "            Id   ProductId          UserId                  ProfileName  \\\n",
       "138706  150524  0006641040   ACITT7DI6IDDL              shari zychinski   \n",
       "138688  150506  0006641040  A2IW4PEEKO2R0U                        Tracy   \n",
       "138689  150507  0006641040  A1S4A3IQ2MU7V4        sally sue \"sally sue\"   \n",
       "138690  150508  0006641040     AZGXZ2UUK6X  Catherine Hallberg \"(Kate)\"   \n",
       "138691  150509  0006641040  A3CMRKGE0P909G                       Teresa   \n",
       "\n",
       "        HelpfulnessNumerator  HelpfulnessDenominator        Time  \\\n",
       "138706                     0                       0   939340800   \n",
       "138688                     1                       1  1194739200   \n",
       "138689                     1                       1  1191456000   \n",
       "138690                     1                       1  1076025600   \n",
       "138691                     3                       4  1018396800   \n",
       "\n",
       "                                           Summary  \\\n",
       "138706                   EVERY book is educational   \n",
       "138688  Love the book, miss the hard cover version   \n",
       "138689               chicken soup with rice months   \n",
       "138690      a good swingy rhythm for reading aloud   \n",
       "138691             A great way to learn the months   \n",
       "\n",
       "                                                     Text       P/N  \\\n",
       "138706  this witty little book makes my son laugh at l...  Positive   \n",
       "138688  I grew up reading these Sendak books, and watc...  Positive   \n",
       "138689  This is a fun way for children to learn their ...  Positive   \n",
       "138690  This is a great little book to read aloud- it ...  Positive   \n",
       "138691  This is a book of poetry about the months of t...  Positive   \n",
       "\n",
       "                                               Clean_Text  \n",
       "138706  witty little book makes son laugh loud recite ...  \n",
       "138688  grew reading sendak books watching really rosi...  \n",
       "138689  fun way children learn months year  learn poem...  \n",
       "138690  great little book read aloud nice rhythm well ...  \n",
       "138691  book poetry months year  goes month cute littl...  "
      ]
     },
     "execution_count": 38,
     "metadata": {},
     "output_type": "execute_result"
    }
   ],
   "source": [
    "df['Clean_Text'] = df['Text'].apply(stopwords_remover).apply(url_remover).apply(html_tags_remover).apply(decontracted).apply(alpha_numberic_remove).apply(special_char_remover)\n",
    "df.head()"
   ]
  },
  {
   "cell_type": "markdown",
   "metadata": {},
   "source": [
    "## Saving Cleaned data to "
   ]
  },
  {
   "cell_type": "code",
   "execution_count": 39,
   "metadata": {
    "ExecuteTime": {
     "end_time": "2019-11-05T19:06:18.786622Z",
     "start_time": "2019-11-05T19:06:12.892039Z"
    }
   },
   "outputs": [],
   "source": [
    "df.to_csv('/home/parth/AppliedAI/datasets/amazon_fine_food/cleaned_data.csv')"
   ]
  }
 ],
 "metadata": {
  "colab": {
   "collapsed_sections": [],
   "name": "Module3.ipynb",
   "provenance": []
  },
  "kernelspec": {
   "display_name": "Python 3",
   "language": "python",
   "name": "python3"
  },
  "language_info": {
   "codemirror_mode": {
    "name": "ipython",
    "version": 3
   },
   "file_extension": ".py",
   "mimetype": "text/x-python",
   "name": "python",
   "nbconvert_exporter": "python",
   "pygments_lexer": "ipython3",
   "version": "3.6.8"
  },
  "latex_envs": {
   "LaTeX_envs_menu_present": true,
   "autoclose": false,
   "autocomplete": true,
   "bibliofile": "biblio.bib",
   "cite_by": "apalike",
   "current_citInitial": 1,
   "eqLabelWithNumbers": true,
   "eqNumInitial": 1,
   "hotkeys": {
    "equation": "Ctrl-E",
    "itemize": "Ctrl-I"
   },
   "labels_anchors": false,
   "latex_user_defs": false,
   "report_style_numbering": false,
   "user_envs_cfg": false
  },
  "toc": {
   "base_numbering": 1,
   "nav_menu": {},
   "number_sections": true,
   "sideBar": true,
   "skip_h1_title": false,
   "title_cell": "Table of Contents",
   "title_sidebar": "Contents",
   "toc_cell": false,
   "toc_position": {
    "height": "calc(100% - 180px)",
    "left": "10px",
    "top": "150px",
    "width": "383.467px"
   },
   "toc_section_display": true,
   "toc_window_display": true
  },
  "varInspector": {
   "cols": {
    "lenName": 16,
    "lenType": 16,
    "lenVar": 40
   },
   "kernels_config": {
    "python": {
     "delete_cmd_postfix": "",
     "delete_cmd_prefix": "del ",
     "library": "var_list.py",
     "varRefreshCmd": "print(var_dic_list())"
    },
    "r": {
     "delete_cmd_postfix": ") ",
     "delete_cmd_prefix": "rm(",
     "library": "var_list.r",
     "varRefreshCmd": "cat(var_dic_list()) "
    }
   },
   "oldHeight": 286.31666600000005,
   "position": {
    "height": "307.85px",
    "left": "30px",
    "right": "20px",
    "top": "355px",
    "width": "283.467px"
   },
   "types_to_exclude": [
    "module",
    "function",
    "builtin_function_or_method",
    "instance",
    "_Feature"
   ],
   "varInspector_section_display": "block",
   "window_display": false
  }
 },
 "nbformat": 4,
 "nbformat_minor": 1
}
