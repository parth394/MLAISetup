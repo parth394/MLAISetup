{
 "cells": [
  {
   "cell_type": "markdown",
   "metadata": {},
   "source": [
    "#### :Load Data and conceiously ###"
   ]
  },
  {
   "cell_type": "code",
   "execution_count": 3,
   "metadata": {},
   "outputs": [],
   "source": [
    "import os\n",
    "from urllib.request import urlretrieve\n",
    "import pandas as pd\n",
    "URL = 'https://data.seattle.gov/api/views/65db-xm6k/rows.csv?accessType=DOWNLOAD'\n",
    "def get_fremont_data(filename='Fremont.csv',url=URL,force_download=False):\n",
    "    if force_download or not os.path.exists(filename):\n",
    "        urlretrieve(url,filename)\n",
    "    data = pd.read_csv('Fremont.csv',index_col='Date',parse_dates=True)\n",
    "    data.columns = ['West','East']\n",
    "    data['Total'] = data['West'] + data['East']\n",
    "    return data\n",
    "    "
   ]
  },
  {
   "cell_type": "code",
   "execution_count": null,
   "metadata": {},
   "outputs": [],
   "source": []
  },
  {
   "cell_type": "code",
   "execution_count": 27,
   "metadata": {},
   "outputs": [],
   "source": [
    "import pandas as pd\n",
    "import numpy as np\n",
    "import time \n",
    "import datetime"
   ]
  },
  {
   "cell_type": "code",
   "execution_count": 133,
   "metadata": {},
   "outputs": [],
   "source": [
    "data = pd.read_excel(\"C:/Users/suryadeept/Downloads/Time_Data.xlsx\")"
   ]
  },
  {
   "cell_type": "code",
   "execution_count": 134,
   "metadata": {},
   "outputs": [],
   "source": [
    "data = data[:100]"
   ]
  },
  {
   "cell_type": "markdown",
   "metadata": {},
   "source": [
    "There seems to be some issue in the data after row 100 and my time function was throwing error thus taking first 100 records "
   ]
  },
  {
   "cell_type": "code",
   "execution_count": 121,
   "metadata": {},
   "outputs": [
    {
     "data": {
      "text/plain": [
       "timestamp             object\n",
       "last_vdb_timestamp    object\n",
       "vdb_timestamp         object\n",
       "dtype: object"
      ]
     },
     "execution_count": 121,
     "metadata": {},
     "output_type": "execute_result"
    }
   ],
   "source": [
    "data.dtypes"
   ]
  },
  {
   "cell_type": "code",
   "execution_count": 122,
   "metadata": {},
   "outputs": [
    {
     "data": {
      "text/plain": [
       "(100, 3)"
      ]
     },
     "execution_count": 122,
     "metadata": {},
     "output_type": "execute_result"
    }
   ],
   "source": [
    "data.shape"
   ]
  },
  {
   "cell_type": "code",
   "execution_count": 123,
   "metadata": {},
   "outputs": [
    {
     "data": {
      "text/plain": [
       "datetime.datetime(2019, 3, 4, 6, 27, 25)"
      ]
     },
     "execution_count": 123,
     "metadata": {},
     "output_type": "execute_result"
    }
   ],
   "source": [
    "d2 = datetime.datetime.strptime(data.timestamp[5],\"%Y-%m-%dT%H:%M:%S.%fZ\")\n",
    "d2"
   ]
  },
  {
   "cell_type": "code",
   "execution_count": 124,
   "metadata": {},
   "outputs": [
    {
     "data": {
      "text/plain": [
       "1551661045.0"
      ]
     },
     "execution_count": 124,
     "metadata": {},
     "output_type": "execute_result"
    }
   ],
   "source": [
    "d2.timestamp()"
   ]
  },
  {
   "cell_type": "raw",
   "metadata": {},
   "source": [
    "data['TimeStamp_epoch'] = data['timestamp'].apply(\n",
    "    lambda x: datetime.datetime.strptime(x, \"%Y-%m-%dT%H:%M:%S.%fZ\").timestamp(\n",
    "    ))"
   ]
  },
  {
   "cell_type": "code",
   "execution_count": 126,
   "metadata": {},
   "outputs": [
    {
     "data": {
      "text/html": [
       "<div>\n",
       "<style scoped>\n",
       "    .dataframe tbody tr th:only-of-type {\n",
       "        vertical-align: middle;\n",
       "    }\n",
       "\n",
       "    .dataframe tbody tr th {\n",
       "        vertical-align: top;\n",
       "    }\n",
       "\n",
       "    .dataframe thead th {\n",
       "        text-align: right;\n",
       "    }\n",
       "</style>\n",
       "<table border=\"1\" class=\"dataframe\">\n",
       "  <thead>\n",
       "    <tr style=\"text-align: right;\">\n",
       "      <th></th>\n",
       "      <th>timestamp</th>\n",
       "      <th>last_vdb_timestamp</th>\n",
       "      <th>vdb_timestamp</th>\n",
       "      <th>TimeStamp_epoch</th>\n",
       "    </tr>\n",
       "  </thead>\n",
       "  <tbody>\n",
       "    <tr>\n",
       "      <th>0</th>\n",
       "      <td>2019-03-01T14:34:51.000Z</td>\n",
       "      <td>28 February, 2019 (10:52:05)</td>\n",
       "      <td>01 March, 2019 (08:08:51)</td>\n",
       "      <td>1.551431e+09</td>\n",
       "    </tr>\n",
       "    <tr>\n",
       "      <th>1</th>\n",
       "      <td>2019-03-01T14:34:51.000Z</td>\n",
       "      <td>28 February, 2019 (10:52:05)</td>\n",
       "      <td>01 March, 2019 (08:08:31)</td>\n",
       "      <td>1.551431e+09</td>\n",
       "    </tr>\n",
       "    <tr>\n",
       "      <th>2</th>\n",
       "      <td>2019-03-01T14:34:51.000Z</td>\n",
       "      <td>28 February, 2019 (10:52:05)</td>\n",
       "      <td>01 March, 2019 (08:08:51)</td>\n",
       "      <td>1.551431e+09</td>\n",
       "    </tr>\n",
       "    <tr>\n",
       "      <th>3</th>\n",
       "      <td>2019-03-01T14:34:51.000Z</td>\n",
       "      <td>28 February, 2019 (10:52:05)</td>\n",
       "      <td>01 March, 2019 (08:08:31)</td>\n",
       "      <td>1.551431e+09</td>\n",
       "    </tr>\n",
       "    <tr>\n",
       "      <th>4</th>\n",
       "      <td>2019-03-04T06:27:25.000Z</td>\n",
       "      <td>02 March, 2019 (08:03:25)</td>\n",
       "      <td>03 March, 2019 (08:09:50)</td>\n",
       "      <td>1.551661e+09</td>\n",
       "    </tr>\n",
       "  </tbody>\n",
       "</table>\n",
       "</div>"
      ],
      "text/plain": [
       "                  timestamp            last_vdb_timestamp  \\\n",
       "0  2019-03-01T14:34:51.000Z  28 February, 2019 (10:52:05)   \n",
       "1  2019-03-01T14:34:51.000Z  28 February, 2019 (10:52:05)   \n",
       "2  2019-03-01T14:34:51.000Z  28 February, 2019 (10:52:05)   \n",
       "3  2019-03-01T14:34:51.000Z  28 February, 2019 (10:52:05)   \n",
       "4  2019-03-04T06:27:25.000Z     02 March, 2019 (08:03:25)   \n",
       "\n",
       "               vdb_timestamp  TimeStamp_epoch  \n",
       "0  01 March, 2019 (08:08:51)     1.551431e+09  \n",
       "1  01 March, 2019 (08:08:31)     1.551431e+09  \n",
       "2  01 March, 2019 (08:08:51)     1.551431e+09  \n",
       "3  01 March, 2019 (08:08:31)     1.551431e+09  \n",
       "4  03 March, 2019 (08:09:50)     1.551661e+09  "
      ]
     },
     "execution_count": 126,
     "metadata": {},
     "output_type": "execute_result"
    }
   ],
   "source": [
    "data.head()"
   ]
  },
  {
   "cell_type": "code",
   "execution_count": 127,
   "metadata": {},
   "outputs": [
    {
     "data": {
      "text/plain": [
       "(100, 4)"
      ]
     },
     "execution_count": 127,
     "metadata": {},
     "output_type": "execute_result"
    }
   ],
   "source": [
    "data.shape"
   ]
  },
  {
   "cell_type": "code",
   "execution_count": 128,
   "metadata": {},
   "outputs": [],
   "source": [
    "d2 = datetime.datetime.strptime(data.last_vdb_timestamp[1],\"%d %B, %Y (%H:%M:%S)\")"
   ]
  },
  {
   "cell_type": "code",
   "execution_count": 129,
   "metadata": {},
   "outputs": [
    {
     "data": {
      "text/plain": [
       "1551331325.0"
      ]
     },
     "execution_count": 129,
     "metadata": {},
     "output_type": "execute_result"
    }
   ],
   "source": [
    "d2.timestamp()"
   ]
  },
  {
   "cell_type": "code",
   "execution_count": 130,
   "metadata": {},
   "outputs": [],
   "source": [
    "data['last_vdb_timestamp_epoch'] = data['last_vdb_timestamp'].apply(lambda x: datetime.datetime.strptime(x, \"%d %B, %Y (%H:%M:%S)\").timestamp())"
   ]
  },
  {
   "cell_type": "code",
   "execution_count": 135,
   "metadata": {},
   "outputs": [],
   "source": [
    "data['timestamp_epoch'] = data['timestamp'].apply(\n",
    "    lambda x: datetime.datetime.strptime(x, \"%Y-%m-%dT%H:%M:%S.%fZ\").timestamp())\n",
    "data['last_vdb_timestamp_epoch'] = data['last_vdb_timestamp'].apply(\n",
    "    lambda x: datetime.datetime.strptime(x, \"%d %B, %Y (%H:%M:%S)\").timestamp())\n",
    "data['vdb_timestamp_epoch'] = data['vdb_timestamp'].apply(\n",
    "    lambda x: datetime.datetime.strptime(x, \"%d %B, %Y (%H:%M:%S)\").timestamp())"
   ]
  },
  {
   "cell_type": "code",
   "execution_count": 136,
   "metadata": {},
   "outputs": [
    {
     "data": {
      "text/html": [
       "<div>\n",
       "<style scoped>\n",
       "    .dataframe tbody tr th:only-of-type {\n",
       "        vertical-align: middle;\n",
       "    }\n",
       "\n",
       "    .dataframe tbody tr th {\n",
       "        vertical-align: top;\n",
       "    }\n",
       "\n",
       "    .dataframe thead th {\n",
       "        text-align: right;\n",
       "    }\n",
       "</style>\n",
       "<table border=\"1\" class=\"dataframe\">\n",
       "  <thead>\n",
       "    <tr style=\"text-align: right;\">\n",
       "      <th></th>\n",
       "      <th>timestamp</th>\n",
       "      <th>last_vdb_timestamp</th>\n",
       "      <th>vdb_timestamp</th>\n",
       "      <th>timestamp_epoch</th>\n",
       "      <th>last_vdb_timestamp_epoch</th>\n",
       "      <th>vdb_timestamp_epoch</th>\n",
       "    </tr>\n",
       "  </thead>\n",
       "  <tbody>\n",
       "    <tr>\n",
       "      <th>0</th>\n",
       "      <td>2019-03-01T14:34:51.000Z</td>\n",
       "      <td>28 February, 2019 (10:52:05)</td>\n",
       "      <td>01 March, 2019 (08:08:51)</td>\n",
       "      <td>1.551431e+09</td>\n",
       "      <td>1.551331e+09</td>\n",
       "      <td>1.551408e+09</td>\n",
       "    </tr>\n",
       "    <tr>\n",
       "      <th>1</th>\n",
       "      <td>2019-03-01T14:34:51.000Z</td>\n",
       "      <td>28 February, 2019 (10:52:05)</td>\n",
       "      <td>01 March, 2019 (08:08:31)</td>\n",
       "      <td>1.551431e+09</td>\n",
       "      <td>1.551331e+09</td>\n",
       "      <td>1.551408e+09</td>\n",
       "    </tr>\n",
       "    <tr>\n",
       "      <th>2</th>\n",
       "      <td>2019-03-01T14:34:51.000Z</td>\n",
       "      <td>28 February, 2019 (10:52:05)</td>\n",
       "      <td>01 March, 2019 (08:08:51)</td>\n",
       "      <td>1.551431e+09</td>\n",
       "      <td>1.551331e+09</td>\n",
       "      <td>1.551408e+09</td>\n",
       "    </tr>\n",
       "    <tr>\n",
       "      <th>3</th>\n",
       "      <td>2019-03-01T14:34:51.000Z</td>\n",
       "      <td>28 February, 2019 (10:52:05)</td>\n",
       "      <td>01 March, 2019 (08:08:31)</td>\n",
       "      <td>1.551431e+09</td>\n",
       "      <td>1.551331e+09</td>\n",
       "      <td>1.551408e+09</td>\n",
       "    </tr>\n",
       "    <tr>\n",
       "      <th>4</th>\n",
       "      <td>2019-03-04T06:27:25.000Z</td>\n",
       "      <td>02 March, 2019 (08:03:25)</td>\n",
       "      <td>03 March, 2019 (08:09:50)</td>\n",
       "      <td>1.551661e+09</td>\n",
       "      <td>1.551494e+09</td>\n",
       "      <td>1.551581e+09</td>\n",
       "    </tr>\n",
       "  </tbody>\n",
       "</table>\n",
       "</div>"
      ],
      "text/plain": [
       "                  timestamp            last_vdb_timestamp  \\\n",
       "0  2019-03-01T14:34:51.000Z  28 February, 2019 (10:52:05)   \n",
       "1  2019-03-01T14:34:51.000Z  28 February, 2019 (10:52:05)   \n",
       "2  2019-03-01T14:34:51.000Z  28 February, 2019 (10:52:05)   \n",
       "3  2019-03-01T14:34:51.000Z  28 February, 2019 (10:52:05)   \n",
       "4  2019-03-04T06:27:25.000Z     02 March, 2019 (08:03:25)   \n",
       "\n",
       "               vdb_timestamp  timestamp_epoch  last_vdb_timestamp_epoch  \\\n",
       "0  01 March, 2019 (08:08:51)     1.551431e+09              1.551331e+09   \n",
       "1  01 March, 2019 (08:08:31)     1.551431e+09              1.551331e+09   \n",
       "2  01 March, 2019 (08:08:51)     1.551431e+09              1.551331e+09   \n",
       "3  01 March, 2019 (08:08:31)     1.551431e+09              1.551331e+09   \n",
       "4  03 March, 2019 (08:09:50)     1.551661e+09              1.551494e+09   \n",
       "\n",
       "   vdb_timestamp_epoch  \n",
       "0         1.551408e+09  \n",
       "1         1.551408e+09  \n",
       "2         1.551408e+09  \n",
       "3         1.551408e+09  \n",
       "4         1.551581e+09  "
      ]
     },
     "execution_count": 136,
     "metadata": {},
     "output_type": "execute_result"
    }
   ],
   "source": [
    "data.head()"
   ]
  },
  {
   "cell_type": "code",
   "execution_count": 139,
   "metadata": {},
   "outputs": [],
   "source": [
    "data['C_B'] = data.vdb_timestamp_epoch - data.last_vdb_timestamp_epoch\n",
    "data['A_B'] = data.timestamp_epoch - data.last_vdb_timestamp_epoch\n",
    "data['A_C'] = data.timestamp_epoch - data.vdb_timestamp_epoch"
   ]
  },
  {
   "cell_type": "code",
   "execution_count": 140,
   "metadata": {},
   "outputs": [
    {
     "data": {
      "text/html": [
       "<div>\n",
       "<style scoped>\n",
       "    .dataframe tbody tr th:only-of-type {\n",
       "        vertical-align: middle;\n",
       "    }\n",
       "\n",
       "    .dataframe tbody tr th {\n",
       "        vertical-align: top;\n",
       "    }\n",
       "\n",
       "    .dataframe thead th {\n",
       "        text-align: right;\n",
       "    }\n",
       "</style>\n",
       "<table border=\"1\" class=\"dataframe\">\n",
       "  <thead>\n",
       "    <tr style=\"text-align: right;\">\n",
       "      <th></th>\n",
       "      <th>timestamp</th>\n",
       "      <th>last_vdb_timestamp</th>\n",
       "      <th>vdb_timestamp</th>\n",
       "      <th>timestamp_epoch</th>\n",
       "      <th>last_vdb_timestamp_epoch</th>\n",
       "      <th>vdb_timestamp_epoch</th>\n",
       "      <th>C_B</th>\n",
       "      <th>A_B</th>\n",
       "      <th>A_C</th>\n",
       "    </tr>\n",
       "  </thead>\n",
       "  <tbody>\n",
       "    <tr>\n",
       "      <th>0</th>\n",
       "      <td>2019-03-01T14:34:51.000Z</td>\n",
       "      <td>28 February, 2019 (10:52:05)</td>\n",
       "      <td>01 March, 2019 (08:08:51)</td>\n",
       "      <td>1.551431e+09</td>\n",
       "      <td>1.551331e+09</td>\n",
       "      <td>1.551408e+09</td>\n",
       "      <td>76606.0</td>\n",
       "      <td>99766.0</td>\n",
       "      <td>23160.0</td>\n",
       "    </tr>\n",
       "    <tr>\n",
       "      <th>1</th>\n",
       "      <td>2019-03-01T14:34:51.000Z</td>\n",
       "      <td>28 February, 2019 (10:52:05)</td>\n",
       "      <td>01 March, 2019 (08:08:31)</td>\n",
       "      <td>1.551431e+09</td>\n",
       "      <td>1.551331e+09</td>\n",
       "      <td>1.551408e+09</td>\n",
       "      <td>76586.0</td>\n",
       "      <td>99766.0</td>\n",
       "      <td>23180.0</td>\n",
       "    </tr>\n",
       "    <tr>\n",
       "      <th>2</th>\n",
       "      <td>2019-03-01T14:34:51.000Z</td>\n",
       "      <td>28 February, 2019 (10:52:05)</td>\n",
       "      <td>01 March, 2019 (08:08:51)</td>\n",
       "      <td>1.551431e+09</td>\n",
       "      <td>1.551331e+09</td>\n",
       "      <td>1.551408e+09</td>\n",
       "      <td>76606.0</td>\n",
       "      <td>99766.0</td>\n",
       "      <td>23160.0</td>\n",
       "    </tr>\n",
       "    <tr>\n",
       "      <th>3</th>\n",
       "      <td>2019-03-01T14:34:51.000Z</td>\n",
       "      <td>28 February, 2019 (10:52:05)</td>\n",
       "      <td>01 March, 2019 (08:08:31)</td>\n",
       "      <td>1.551431e+09</td>\n",
       "      <td>1.551331e+09</td>\n",
       "      <td>1.551408e+09</td>\n",
       "      <td>76586.0</td>\n",
       "      <td>99766.0</td>\n",
       "      <td>23180.0</td>\n",
       "    </tr>\n",
       "    <tr>\n",
       "      <th>4</th>\n",
       "      <td>2019-03-04T06:27:25.000Z</td>\n",
       "      <td>02 March, 2019 (08:03:25)</td>\n",
       "      <td>03 March, 2019 (08:09:50)</td>\n",
       "      <td>1.551661e+09</td>\n",
       "      <td>1.551494e+09</td>\n",
       "      <td>1.551581e+09</td>\n",
       "      <td>86785.0</td>\n",
       "      <td>167040.0</td>\n",
       "      <td>80255.0</td>\n",
       "    </tr>\n",
       "  </tbody>\n",
       "</table>\n",
       "</div>"
      ],
      "text/plain": [
       "                  timestamp            last_vdb_timestamp  \\\n",
       "0  2019-03-01T14:34:51.000Z  28 February, 2019 (10:52:05)   \n",
       "1  2019-03-01T14:34:51.000Z  28 February, 2019 (10:52:05)   \n",
       "2  2019-03-01T14:34:51.000Z  28 February, 2019 (10:52:05)   \n",
       "3  2019-03-01T14:34:51.000Z  28 February, 2019 (10:52:05)   \n",
       "4  2019-03-04T06:27:25.000Z     02 March, 2019 (08:03:25)   \n",
       "\n",
       "               vdb_timestamp  timestamp_epoch  last_vdb_timestamp_epoch  \\\n",
       "0  01 March, 2019 (08:08:51)     1.551431e+09              1.551331e+09   \n",
       "1  01 March, 2019 (08:08:31)     1.551431e+09              1.551331e+09   \n",
       "2  01 March, 2019 (08:08:51)     1.551431e+09              1.551331e+09   \n",
       "3  01 March, 2019 (08:08:31)     1.551431e+09              1.551331e+09   \n",
       "4  03 March, 2019 (08:09:50)     1.551661e+09              1.551494e+09   \n",
       "\n",
       "   vdb_timestamp_epoch      C_B       A_B      A_C  \n",
       "0         1.551408e+09  76606.0   99766.0  23160.0  \n",
       "1         1.551408e+09  76586.0   99766.0  23180.0  \n",
       "2         1.551408e+09  76606.0   99766.0  23160.0  \n",
       "3         1.551408e+09  76586.0   99766.0  23180.0  \n",
       "4         1.551581e+09  86785.0  167040.0  80255.0  "
      ]
     },
     "execution_count": 140,
     "metadata": {},
     "output_type": "execute_result"
    }
   ],
   "source": [
    "data.head()"
   ]
  },
  {
   "cell_type": "code",
   "execution_count": null,
   "metadata": {},
   "outputs": [],
   "source": [
    "import pandas as pd\n",
    "import numpy as np\n",
    "import time \n",
    "import datetime\n",
    "data = pd.read_excel(\"C:/Users/suryadeept/Downloads/Time_Data.xlsx\")\n",
    "data = data[:100]\n",
    "data['timestamp_epoch'] = data['timestamp'].apply(\n",
    "    lambda x: datetime.datetime.strptime(x, \"%Y-%m-%dT%H:%M:%S.%fZ\").timestamp())\n",
    "data['last_vdb_timestamp_epoch'] = data['last_vdb_timestamp'].apply(\n",
    "    lambda x: datetime.datetime.strptime(x, \"%d %B, %Y (%H:%M:%S)\").timestamp())\n",
    "data['vdb_timestamp_epoch'] = data['vdb_timestamp'].apply(\n",
    "    lambda x: datetime.datetime.strptime(x, \"%d %B, %Y (%H:%M:%S)\").timestamp())\n",
    "data['C_B'] = data.vdb_timestamp_epoch - data.last_vdb_timestamp_epoch\n",
    "data['A_B'] = data.timestamp_epoch - data.last_vdb_timestamp_epoch\n",
    "data['A_C'] = data.timestamp_epoch - data.vdb_timestamp_epoch"
   ]
  },
  {
   "cell_type": "code",
   "execution_count": 141,
   "metadata": {},
   "outputs": [
    {
     "data": {
      "text/html": [
       "<div>\n",
       "<style scoped>\n",
       "    .dataframe tbody tr th:only-of-type {\n",
       "        vertical-align: middle;\n",
       "    }\n",
       "\n",
       "    .dataframe tbody tr th {\n",
       "        vertical-align: top;\n",
       "    }\n",
       "\n",
       "    .dataframe thead th {\n",
       "        text-align: right;\n",
       "    }\n",
       "</style>\n",
       "<table border=\"1\" class=\"dataframe\">\n",
       "  <thead>\n",
       "    <tr style=\"text-align: right;\">\n",
       "      <th></th>\n",
       "      <th>timestamp</th>\n",
       "      <th>last_vdb_timestamp</th>\n",
       "      <th>vdb_timestamp</th>\n",
       "      <th>timestamp_epoch</th>\n",
       "      <th>last_vdb_timestamp_epoch</th>\n",
       "      <th>vdb_timestamp_epoch</th>\n",
       "      <th>C_B</th>\n",
       "      <th>A_B</th>\n",
       "      <th>A_C</th>\n",
       "    </tr>\n",
       "  </thead>\n",
       "  <tbody>\n",
       "    <tr>\n",
       "      <th>0</th>\n",
       "      <td>2019-03-01T14:34:51.000Z</td>\n",
       "      <td>28 February, 2019 (10:52:05)</td>\n",
       "      <td>01 March, 2019 (08:08:51)</td>\n",
       "      <td>1.551431e+09</td>\n",
       "      <td>1.551331e+09</td>\n",
       "      <td>1.551408e+09</td>\n",
       "      <td>76606.0</td>\n",
       "      <td>99766.0</td>\n",
       "      <td>23160.0</td>\n",
       "    </tr>\n",
       "    <tr>\n",
       "      <th>1</th>\n",
       "      <td>2019-03-01T14:34:51.000Z</td>\n",
       "      <td>28 February, 2019 (10:52:05)</td>\n",
       "      <td>01 March, 2019 (08:08:31)</td>\n",
       "      <td>1.551431e+09</td>\n",
       "      <td>1.551331e+09</td>\n",
       "      <td>1.551408e+09</td>\n",
       "      <td>76586.0</td>\n",
       "      <td>99766.0</td>\n",
       "      <td>23180.0</td>\n",
       "    </tr>\n",
       "    <tr>\n",
       "      <th>2</th>\n",
       "      <td>2019-03-01T14:34:51.000Z</td>\n",
       "      <td>28 February, 2019 (10:52:05)</td>\n",
       "      <td>01 March, 2019 (08:08:51)</td>\n",
       "      <td>1.551431e+09</td>\n",
       "      <td>1.551331e+09</td>\n",
       "      <td>1.551408e+09</td>\n",
       "      <td>76606.0</td>\n",
       "      <td>99766.0</td>\n",
       "      <td>23160.0</td>\n",
       "    </tr>\n",
       "    <tr>\n",
       "      <th>3</th>\n",
       "      <td>2019-03-01T14:34:51.000Z</td>\n",
       "      <td>28 February, 2019 (10:52:05)</td>\n",
       "      <td>01 March, 2019 (08:08:31)</td>\n",
       "      <td>1.551431e+09</td>\n",
       "      <td>1.551331e+09</td>\n",
       "      <td>1.551408e+09</td>\n",
       "      <td>76586.0</td>\n",
       "      <td>99766.0</td>\n",
       "      <td>23180.0</td>\n",
       "    </tr>\n",
       "    <tr>\n",
       "      <th>4</th>\n",
       "      <td>2019-03-04T06:27:25.000Z</td>\n",
       "      <td>02 March, 2019 (08:03:25)</td>\n",
       "      <td>03 March, 2019 (08:09:50)</td>\n",
       "      <td>1.551661e+09</td>\n",
       "      <td>1.551494e+09</td>\n",
       "      <td>1.551581e+09</td>\n",
       "      <td>86785.0</td>\n",
       "      <td>167040.0</td>\n",
       "      <td>80255.0</td>\n",
       "    </tr>\n",
       "  </tbody>\n",
       "</table>\n",
       "</div>"
      ],
      "text/plain": [
       "                  timestamp            last_vdb_timestamp  \\\n",
       "0  2019-03-01T14:34:51.000Z  28 February, 2019 (10:52:05)   \n",
       "1  2019-03-01T14:34:51.000Z  28 February, 2019 (10:52:05)   \n",
       "2  2019-03-01T14:34:51.000Z  28 February, 2019 (10:52:05)   \n",
       "3  2019-03-01T14:34:51.000Z  28 February, 2019 (10:52:05)   \n",
       "4  2019-03-04T06:27:25.000Z     02 March, 2019 (08:03:25)   \n",
       "\n",
       "               vdb_timestamp  timestamp_epoch  last_vdb_timestamp_epoch  \\\n",
       "0  01 March, 2019 (08:08:51)     1.551431e+09              1.551331e+09   \n",
       "1  01 March, 2019 (08:08:31)     1.551431e+09              1.551331e+09   \n",
       "2  01 March, 2019 (08:08:51)     1.551431e+09              1.551331e+09   \n",
       "3  01 March, 2019 (08:08:31)     1.551431e+09              1.551331e+09   \n",
       "4  03 March, 2019 (08:09:50)     1.551661e+09              1.551494e+09   \n",
       "\n",
       "   vdb_timestamp_epoch      C_B       A_B      A_C  \n",
       "0         1.551408e+09  76606.0   99766.0  23160.0  \n",
       "1         1.551408e+09  76586.0   99766.0  23180.0  \n",
       "2         1.551408e+09  76606.0   99766.0  23160.0  \n",
       "3         1.551408e+09  76586.0   99766.0  23180.0  \n",
       "4         1.551581e+09  86785.0  167040.0  80255.0  "
      ]
     },
     "execution_count": 141,
     "metadata": {},
     "output_type": "execute_result"
    }
   ],
   "source": [
    "data.head()"
   ]
  },
  {
   "cell_type": "code",
   "execution_count": null,
   "metadata": {},
   "outputs": [],
   "source": []
  }
 ],
 "metadata": {
  "kernelspec": {
   "display_name": "Python 3",
   "language": "python",
   "name": "python3"
  },
  "language_info": {
   "codemirror_mode": {
    "name": "ipython",
    "version": 3
   },
   "file_extension": ".py",
   "mimetype": "text/x-python",
   "name": "python",
   "nbconvert_exporter": "python",
   "pygments_lexer": "ipython3",
   "version": "3.7.3"
  },
  "toc": {
   "base_numbering": 1,
   "nav_menu": {},
   "number_sections": true,
   "sideBar": true,
   "skip_h1_title": false,
   "title_cell": "Table of Contents",
   "title_sidebar": "Contents",
   "toc_cell": false,
   "toc_position": {},
   "toc_section_display": true,
   "toc_window_display": false
  }
 },
 "nbformat": 4,
 "nbformat_minor": 2
}
